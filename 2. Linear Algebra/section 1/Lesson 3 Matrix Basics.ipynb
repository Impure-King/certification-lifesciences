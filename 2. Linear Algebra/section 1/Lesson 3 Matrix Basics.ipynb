{
 "cells": [
  {
   "cell_type": "code",
   "execution_count": 1,
   "id": "de69fe04",
   "metadata": {},
   "outputs": [
    {
     "name": "stderr",
     "output_type": "stream",
     "text": [
      "Loading required package: MASS\n",
      "\n",
      "Loading required package: HistData\n",
      "\n",
      "Loading required package: Hmisc\n",
      "\n",
      "\n",
      "Attaching package: 'Hmisc'\n",
      "\n",
      "\n",
      "The following objects are masked from 'package:base':\n",
      "\n",
      "    format.pval, units\n",
      "\n",
      "\n"
     ]
    }
   ],
   "source": [
    "library(UsingR)"
   ]
  },
  {
   "cell_type": "code",
   "execution_count": 2,
   "id": "7e45e53f",
   "metadata": {},
   "outputs": [],
   "source": [
    "# Creating a vector:\n",
    "vector1 <- c(1, 5, 3, 4) # Similar to list in python and support dynamic types."
   ]
  },
  {
   "cell_type": "code",
   "execution_count": 3,
   "id": "9bb72ae2",
   "metadata": {},
   "outputs": [
    {
     "data": {
      "text/html": [
       "<style>\n",
       ".list-inline {list-style: none; margin:0; padding: 0}\n",
       ".list-inline>li {display: inline-block}\n",
       ".list-inline>li:not(:last-child)::after {content: \"\\00b7\"; padding: 0 .5ex}\n",
       "</style>\n",
       "<ol class=list-inline><li>1</li><li>5</li><li>3</li><li>4</li></ol>\n"
      ],
      "text/latex": [
       "\\begin{enumerate*}\n",
       "\\item 1\n",
       "\\item 5\n",
       "\\item 3\n",
       "\\item 4\n",
       "\\end{enumerate*}\n"
      ],
      "text/markdown": [
       "1. 1\n",
       "2. 5\n",
       "3. 3\n",
       "4. 4\n",
       "\n",
       "\n"
      ],
      "text/plain": [
       "[1] 1 5 3 4"
      ]
     },
     "metadata": {},
     "output_type": "display_data"
    }
   ],
   "source": [
    "vector1"
   ]
  },
  {
   "cell_type": "code",
   "execution_count": 4,
   "id": "71848c35",
   "metadata": {},
   "outputs": [
    {
     "data": {
      "text/html": [
       "<table class=\"dataframe\">\n",
       "<caption>A matrix: 4 × 1 of type dbl</caption>\n",
       "<thead>\n",
       "\t<tr><th scope=col>vector1</th></tr>\n",
       "</thead>\n",
       "<tbody>\n",
       "\t<tr><td>1</td></tr>\n",
       "\t<tr><td>5</td></tr>\n",
       "\t<tr><td>3</td></tr>\n",
       "\t<tr><td>4</td></tr>\n",
       "</tbody>\n",
       "</table>\n"
      ],
      "text/latex": [
       "A matrix: 4 × 1 of type dbl\n",
       "\\begin{tabular}{l}\n",
       " vector1\\\\\n",
       "\\hline\n",
       "\t 1\\\\\n",
       "\t 5\\\\\n",
       "\t 3\\\\\n",
       "\t 4\\\\\n",
       "\\end{tabular}\n"
      ],
      "text/markdown": [
       "\n",
       "A matrix: 4 × 1 of type dbl\n",
       "\n",
       "| vector1 |\n",
       "|---|\n",
       "| 1 |\n",
       "| 5 |\n",
       "| 3 |\n",
       "| 4 |\n",
       "\n"
      ],
      "text/plain": [
       "     vector1\n",
       "[1,] 1      \n",
       "[2,] 5      \n",
       "[3,] 3      \n",
       "[4,] 4      "
      ]
     },
     "metadata": {},
     "output_type": "display_data"
    }
   ],
   "source": [
    "# Converting a vector to a column matrix:\n",
    "cbind(vector1)"
   ]
  },
  {
   "cell_type": "code",
   "execution_count": 5,
   "id": "57d527ab",
   "metadata": {},
   "outputs": [
    {
     "data": {
      "text/html": [
       "<table class=\"dataframe\">\n",
       "<caption>A matrix: 1 × 4 of type dbl</caption>\n",
       "<tbody>\n",
       "\t<tr><th scope=row>vector1</th><td>1</td><td>5</td><td>3</td><td>4</td></tr>\n",
       "</tbody>\n",
       "</table>\n"
      ],
      "text/latex": [
       "A matrix: 1 × 4 of type dbl\n",
       "\\begin{tabular}{r|llll}\n",
       "\tvector1 & 1 & 5 & 3 & 4\\\\\n",
       "\\end{tabular}\n"
      ],
      "text/markdown": [
       "\n",
       "A matrix: 1 × 4 of type dbl\n",
       "\n",
       "| vector1 | 1 | 5 | 3 | 4 |\n",
       "\n"
      ],
      "text/plain": [
       "        [,1] [,2] [,3] [,4]\n",
       "vector1 1    5    3    4   "
      ]
     },
     "metadata": {},
     "output_type": "display_data"
    }
   ],
   "source": [
    "# Converting to a row matrix:\n",
    "rbind(vector1)"
   ]
  },
  {
   "cell_type": "code",
   "execution_count": 6,
   "id": "0fc26f40",
   "metadata": {},
   "outputs": [
    {
     "data": {
      "text/html": [
       "<table class=\"dataframe\">\n",
       "<caption>A matrix: 2 × 2 of type dbl</caption>\n",
       "<tbody>\n",
       "\t<tr><td>1</td><td>3</td></tr>\n",
       "\t<tr><td>5</td><td>4</td></tr>\n",
       "</tbody>\n",
       "</table>\n"
      ],
      "text/latex": [
       "A matrix: 2 × 2 of type dbl\n",
       "\\begin{tabular}{ll}\n",
       "\t 1 & 3\\\\\n",
       "\t 5 & 4\\\\\n",
       "\\end{tabular}\n"
      ],
      "text/markdown": [
       "\n",
       "A matrix: 2 × 2 of type dbl\n",
       "\n",
       "| 1 | 3 |\n",
       "| 5 | 4 |\n",
       "\n"
      ],
      "text/plain": [
       "     [,1] [,2]\n",
       "[1,] 1    3   \n",
       "[2,] 5    4   "
      ]
     },
     "metadata": {},
     "output_type": "display_data"
    }
   ],
   "source": [
    "# Converting to a specified matrix:\n",
    "matrix(vector1, 2, 2)"
   ]
  },
  {
   "cell_type": "markdown",
   "id": "e0a230cf",
   "metadata": {},
   "source": [
    "The arguments to a matrix is matrix(data, rows, columns)."
   ]
  },
  {
   "cell_type": "markdown",
   "id": "21246b94",
   "metadata": {},
   "source": [
    "The main difference between an R matrix and dataframe is that the dataframe supports multiple value types."
   ]
  },
  {
   "cell_type": "code",
   "execution_count": 7,
   "id": "9d0d33d0",
   "metadata": {},
   "outputs": [
    {
     "data": {
      "text/html": [
       "<table class=\"dataframe\">\n",
       "<caption>A matrix: 2 × 5 of type dbl</caption>\n",
       "<tbody>\n",
       "\t<tr><td>-0.2221972</td><td>-0.2621368</td><td>1.495672</td><td>-0.1036073</td><td> 0.5417071</td></tr>\n",
       "\t<tr><td> 1.8207345</td><td> 0.2031187</td><td>1.276952</td><td>-0.5008801</td><td>-0.5515232</td></tr>\n",
       "</tbody>\n",
       "</table>\n"
      ],
      "text/latex": [
       "A matrix: 2 × 5 of type dbl\n",
       "\\begin{tabular}{lllll}\n",
       "\t -0.2221972 & -0.2621368 & 1.495672 & -0.1036073 &  0.5417071\\\\\n",
       "\t  1.8207345 &  0.2031187 & 1.276952 & -0.5008801 & -0.5515232\\\\\n",
       "\\end{tabular}\n"
      ],
      "text/markdown": [
       "\n",
       "A matrix: 2 × 5 of type dbl\n",
       "\n",
       "| -0.2221972 | -0.2621368 | 1.495672 | -0.1036073 |  0.5417071 |\n",
       "|  1.8207345 |  0.2031187 | 1.276952 | -0.5008801 | -0.5515232 |\n",
       "\n"
      ],
      "text/plain": [
       "     [,1]       [,2]       [,3]     [,4]       [,5]      \n",
       "[1,] -0.2221972 -0.2621368 1.495672 -0.1036073  0.5417071\n",
       "[2,]  1.8207345  0.2031187 1.276952 -0.5008801 -0.5515232"
      ]
     },
     "metadata": {},
     "output_type": "display_data"
    }
   ],
   "source": [
    "# Several function results that return a convertable vector:\n",
    "matrix(rnorm(10), 2, 5)"
   ]
  },
  {
   "cell_type": "code",
   "execution_count": 18,
   "id": "cf37902c",
   "metadata": {},
   "outputs": [
    {
     "data": {
      "text/html": [
       "<table class=\"dataframe\">\n",
       "<caption>A matrix: 2 × 5 of type int</caption>\n",
       "<tbody>\n",
       "\t<tr><td>1</td><td>2</td><td>3</td><td>4</td><td> 5</td></tr>\n",
       "\t<tr><td>6</td><td>7</td><td>8</td><td>9</td><td>10</td></tr>\n",
       "</tbody>\n",
       "</table>\n"
      ],
      "text/latex": [
       "A matrix: 2 × 5 of type int\n",
       "\\begin{tabular}{lllll}\n",
       "\t 1 & 2 & 3 & 4 &  5\\\\\n",
       "\t 6 & 7 & 8 & 9 & 10\\\\\n",
       "\\end{tabular}\n"
      ],
      "text/markdown": [
       "\n",
       "A matrix: 2 × 5 of type int\n",
       "\n",
       "| 1 | 2 | 3 | 4 |  5 |\n",
       "| 6 | 7 | 8 | 9 | 10 |\n",
       "\n"
      ],
      "text/plain": [
       "     [,1] [,2] [,3] [,4] [,5]\n",
       "[1,] 1    2    3    4     5  \n",
       "[2,] 6    7    8    9    10  "
      ]
     },
     "metadata": {},
     "output_type": "display_data"
    }
   ],
   "source": [
    "# Can also create by row:\n",
    "matrix(1:10, 2, 5, byrow=TRUE)"
   ]
  },
  {
   "cell_type": "code",
   "execution_count": 26,
   "id": "be38357b",
   "metadata": {},
   "outputs": [
    {
     "data": {
      "text/html": [
       "<style>\n",
       ".list-inline {list-style: none; margin:0; padding: 0}\n",
       ".list-inline>li {display: inline-block}\n",
       ".list-inline>li:not(:last-child)::after {content: \"\\00b7\"; padding: 0 .5ex}\n",
       "</style>\n",
       "<ol class=list-inline><li>2</li><li>4</li><li>6</li><li>8</li><li>10</li></ol>\n"
      ],
      "text/latex": [
       "\\begin{enumerate*}\n",
       "\\item 2\n",
       "\\item 4\n",
       "\\item 6\n",
       "\\item 8\n",
       "\\item 10\n",
       "\\end{enumerate*}\n"
      ],
      "text/markdown": [
       "1. 2\n",
       "2. 4\n",
       "3. 6\n",
       "4. 8\n",
       "5. 10\n",
       "\n",
       "\n"
      ],
      "text/plain": [
       "[1]  2  4  6  8 10"
      ]
     },
     "metadata": {},
     "output_type": "display_data"
    }
   ],
   "source": [
    "# Lastly, the actual range function with step:\n",
    "seq(2, 10, 2)"
   ]
  },
  {
   "cell_type": "markdown",
   "id": "603167c3",
   "metadata": {},
   "source": [
    "## Question 1:"
   ]
  },
  {
   "cell_type": "code",
   "execution_count": 8,
   "id": "81b13ff6",
   "metadata": {},
   "outputs": [
    {
     "data": {
      "text/html": [
       "225"
      ],
      "text/latex": [
       "225"
      ],
      "text/markdown": [
       "225"
      ],
      "text/plain": [
       "[1] 225"
      ]
     },
     "metadata": {},
     "output_type": "display_data"
    }
   ],
   "source": [
    "# Creating a matrix like the range function in python:\n",
    "matrix(1:1000, 100, 10)[25, 3] # Indexing like a vector."
   ]
  },
  {
   "cell_type": "markdown",
   "id": "0fabd826",
   "metadata": {},
   "source": [
    "#  Question 2:"
   ]
  },
  {
   "cell_type": "code",
   "execution_count": 9,
   "id": "f6a154ac",
   "metadata": {},
   "outputs": [],
   "source": [
    "# Creating a 10 x 5 matrix:\n",
    "vector1 <- 1:10\n",
    "matrix1 <- cbind(vector1, vector1 * 2, vector1 * 3, vector1 * 4, vector1 * 5)"
   ]
  },
  {
   "cell_type": "code",
   "execution_count": 13,
   "id": "7eb3817b",
   "metadata": {},
   "outputs": [
    {
     "data": {
      "text/html": [
       "105"
      ],
      "text/latex": [
       "105"
      ],
      "text/markdown": [
       "105"
      ],
      "text/plain": [
       "[1] 105"
      ]
     },
     "metadata": {},
     "output_type": "display_data"
    }
   ],
   "source": [
    "sum(matrix1[7,])"
   ]
  },
  {
   "cell_type": "markdown",
   "id": "243554ff",
   "metadata": {},
   "source": [
    "# Question 3:"
   ]
  },
  {
   "cell_type": "code",
   "execution_count": 15,
   "id": "55e0c318",
   "metadata": {},
   "outputs": [
    {
     "data": {
      "text/html": [
       "<table class=\"dataframe\">\n",
       "<caption>A matrix: 20 × 3 of type int</caption>\n",
       "<tbody>\n",
       "\t<tr><td> 1</td><td>21</td><td>41</td></tr>\n",
       "\t<tr><td> 2</td><td>22</td><td>42</td></tr>\n",
       "\t<tr><td> 3</td><td>23</td><td>43</td></tr>\n",
       "\t<tr><td> 4</td><td>24</td><td>44</td></tr>\n",
       "\t<tr><td> 5</td><td>25</td><td>45</td></tr>\n",
       "\t<tr><td> 6</td><td>26</td><td>46</td></tr>\n",
       "\t<tr><td> 7</td><td>27</td><td>47</td></tr>\n",
       "\t<tr><td> 8</td><td>28</td><td>48</td></tr>\n",
       "\t<tr><td> 9</td><td>29</td><td>49</td></tr>\n",
       "\t<tr><td>10</td><td>30</td><td>50</td></tr>\n",
       "\t<tr><td>11</td><td>31</td><td>51</td></tr>\n",
       "\t<tr><td>12</td><td>32</td><td>52</td></tr>\n",
       "\t<tr><td>13</td><td>33</td><td>53</td></tr>\n",
       "\t<tr><td>14</td><td>34</td><td>54</td></tr>\n",
       "\t<tr><td>15</td><td>35</td><td>55</td></tr>\n",
       "\t<tr><td>16</td><td>36</td><td>56</td></tr>\n",
       "\t<tr><td>17</td><td>37</td><td>57</td></tr>\n",
       "\t<tr><td>18</td><td>38</td><td>58</td></tr>\n",
       "\t<tr><td>19</td><td>39</td><td>59</td></tr>\n",
       "\t<tr><td>20</td><td>40</td><td>60</td></tr>\n",
       "</tbody>\n",
       "</table>\n"
      ],
      "text/latex": [
       "A matrix: 20 × 3 of type int\n",
       "\\begin{tabular}{lll}\n",
       "\t  1 & 21 & 41\\\\\n",
       "\t  2 & 22 & 42\\\\\n",
       "\t  3 & 23 & 43\\\\\n",
       "\t  4 & 24 & 44\\\\\n",
       "\t  5 & 25 & 45\\\\\n",
       "\t  6 & 26 & 46\\\\\n",
       "\t  7 & 27 & 47\\\\\n",
       "\t  8 & 28 & 48\\\\\n",
       "\t  9 & 29 & 49\\\\\n",
       "\t 10 & 30 & 50\\\\\n",
       "\t 11 & 31 & 51\\\\\n",
       "\t 12 & 32 & 52\\\\\n",
       "\t 13 & 33 & 53\\\\\n",
       "\t 14 & 34 & 54\\\\\n",
       "\t 15 & 35 & 55\\\\\n",
       "\t 16 & 36 & 56\\\\\n",
       "\t 17 & 37 & 57\\\\\n",
       "\t 18 & 38 & 58\\\\\n",
       "\t 19 & 39 & 59\\\\\n",
       "\t 20 & 40 & 60\\\\\n",
       "\\end{tabular}\n"
      ],
      "text/markdown": [
       "\n",
       "A matrix: 20 × 3 of type int\n",
       "\n",
       "|  1 | 21 | 41 |\n",
       "|  2 | 22 | 42 |\n",
       "|  3 | 23 | 43 |\n",
       "|  4 | 24 | 44 |\n",
       "|  5 | 25 | 45 |\n",
       "|  6 | 26 | 46 |\n",
       "|  7 | 27 | 47 |\n",
       "|  8 | 28 | 48 |\n",
       "|  9 | 29 | 49 |\n",
       "| 10 | 30 | 50 |\n",
       "| 11 | 31 | 51 |\n",
       "| 12 | 32 | 52 |\n",
       "| 13 | 33 | 53 |\n",
       "| 14 | 34 | 54 |\n",
       "| 15 | 35 | 55 |\n",
       "| 16 | 36 | 56 |\n",
       "| 17 | 37 | 57 |\n",
       "| 18 | 38 | 58 |\n",
       "| 19 | 39 | 59 |\n",
       "| 20 | 40 | 60 |\n",
       "\n"
      ],
      "text/plain": [
       "      [,1] [,2] [,3]\n",
       " [1,]  1   21   41  \n",
       " [2,]  2   22   42  \n",
       " [3,]  3   23   43  \n",
       " [4,]  4   24   44  \n",
       " [5,]  5   25   45  \n",
       " [6,]  6   26   46  \n",
       " [7,]  7   27   47  \n",
       " [8,]  8   28   48  \n",
       " [9,]  9   29   49  \n",
       "[10,] 10   30   50  \n",
       "[11,] 11   31   51  \n",
       "[12,] 12   32   52  \n",
       "[13,] 13   33   53  \n",
       "[14,] 14   34   54  \n",
       "[15,] 15   35   55  \n",
       "[16,] 16   36   56  \n",
       "[17,] 17   37   57  \n",
       "[18,] 18   38   58  \n",
       "[19,] 19   39   59  \n",
       "[20,] 20   40   60  "
      ]
     },
     "metadata": {},
     "output_type": "display_data"
    }
   ],
   "source": [
    "matrix(1:60,20,3) # Just reshapes 1 to 60 in 20 x 3 matrix."
   ]
  },
  {
   "cell_type": "code",
   "execution_count": 16,
   "id": "d8564490",
   "metadata": {},
   "outputs": [
    {
     "data": {
      "text/html": [
       "<table class=\"dataframe\">\n",
       "<caption>A matrix: 20 × 3 of type int</caption>\n",
       "<tbody>\n",
       "\t<tr><td> 1</td><td> 2</td><td> 3</td></tr>\n",
       "\t<tr><td> 4</td><td> 5</td><td> 6</td></tr>\n",
       "\t<tr><td> 7</td><td> 8</td><td> 9</td></tr>\n",
       "\t<tr><td>10</td><td>11</td><td>12</td></tr>\n",
       "\t<tr><td>13</td><td>14</td><td>15</td></tr>\n",
       "\t<tr><td>16</td><td>17</td><td>18</td></tr>\n",
       "\t<tr><td>19</td><td>20</td><td>21</td></tr>\n",
       "\t<tr><td>22</td><td>23</td><td>24</td></tr>\n",
       "\t<tr><td>25</td><td>26</td><td>27</td></tr>\n",
       "\t<tr><td>28</td><td>29</td><td>30</td></tr>\n",
       "\t<tr><td>31</td><td>32</td><td>33</td></tr>\n",
       "\t<tr><td>34</td><td>35</td><td>36</td></tr>\n",
       "\t<tr><td>37</td><td>38</td><td>39</td></tr>\n",
       "\t<tr><td>40</td><td>41</td><td>42</td></tr>\n",
       "\t<tr><td>43</td><td>44</td><td>45</td></tr>\n",
       "\t<tr><td>46</td><td>47</td><td>48</td></tr>\n",
       "\t<tr><td>49</td><td>50</td><td>51</td></tr>\n",
       "\t<tr><td>52</td><td>53</td><td>54</td></tr>\n",
       "\t<tr><td>55</td><td>56</td><td>57</td></tr>\n",
       "\t<tr><td>58</td><td>59</td><td>60</td></tr>\n",
       "</tbody>\n",
       "</table>\n"
      ],
      "text/latex": [
       "A matrix: 20 × 3 of type int\n",
       "\\begin{tabular}{lll}\n",
       "\t  1 &  2 &  3\\\\\n",
       "\t  4 &  5 &  6\\\\\n",
       "\t  7 &  8 &  9\\\\\n",
       "\t 10 & 11 & 12\\\\\n",
       "\t 13 & 14 & 15\\\\\n",
       "\t 16 & 17 & 18\\\\\n",
       "\t 19 & 20 & 21\\\\\n",
       "\t 22 & 23 & 24\\\\\n",
       "\t 25 & 26 & 27\\\\\n",
       "\t 28 & 29 & 30\\\\\n",
       "\t 31 & 32 & 33\\\\\n",
       "\t 34 & 35 & 36\\\\\n",
       "\t 37 & 38 & 39\\\\\n",
       "\t 40 & 41 & 42\\\\\n",
       "\t 43 & 44 & 45\\\\\n",
       "\t 46 & 47 & 48\\\\\n",
       "\t 49 & 50 & 51\\\\\n",
       "\t 52 & 53 & 54\\\\\n",
       "\t 55 & 56 & 57\\\\\n",
       "\t 58 & 59 & 60\\\\\n",
       "\\end{tabular}\n"
      ],
      "text/markdown": [
       "\n",
       "A matrix: 20 × 3 of type int\n",
       "\n",
       "|  1 |  2 |  3 |\n",
       "|  4 |  5 |  6 |\n",
       "|  7 |  8 |  9 |\n",
       "| 10 | 11 | 12 |\n",
       "| 13 | 14 | 15 |\n",
       "| 16 | 17 | 18 |\n",
       "| 19 | 20 | 21 |\n",
       "| 22 | 23 | 24 |\n",
       "| 25 | 26 | 27 |\n",
       "| 28 | 29 | 30 |\n",
       "| 31 | 32 | 33 |\n",
       "| 34 | 35 | 36 |\n",
       "| 37 | 38 | 39 |\n",
       "| 40 | 41 | 42 |\n",
       "| 43 | 44 | 45 |\n",
       "| 46 | 47 | 48 |\n",
       "| 49 | 50 | 51 |\n",
       "| 52 | 53 | 54 |\n",
       "| 55 | 56 | 57 |\n",
       "| 58 | 59 | 60 |\n",
       "\n"
      ],
      "text/plain": [
       "      [,1] [,2] [,3]\n",
       " [1,]  1    2    3  \n",
       " [2,]  4    5    6  \n",
       " [3,]  7    8    9  \n",
       " [4,] 10   11   12  \n",
       " [5,] 13   14   15  \n",
       " [6,] 16   17   18  \n",
       " [7,] 19   20   21  \n",
       " [8,] 22   23   24  \n",
       " [9,] 25   26   27  \n",
       "[10,] 28   29   30  \n",
       "[11,] 31   32   33  \n",
       "[12,] 34   35   36  \n",
       "[13,] 37   38   39  \n",
       "[14,] 40   41   42  \n",
       "[15,] 43   44   45  \n",
       "[16,] 46   47   48  \n",
       "[17,] 49   50   51  \n",
       "[18,] 52   53   54  \n",
       "[19,] 55   56   57  \n",
       "[20,] 58   59   60  "
      ]
     },
     "metadata": {},
     "output_type": "display_data"
    }
   ],
   "source": [
    "matrix(1:60,20,3,byrow=TRUE) # It creates by row."
   ]
  },
  {
   "cell_type": "code",
   "execution_count": 19,
   "id": "ce6e0874",
   "metadata": {},
   "outputs": [
    {
     "data": {
      "text/html": [
       "<table class=\"dataframe\">\n",
       "<caption>A matrix: 3 × 10 of type dbl</caption>\n",
       "<tbody>\n",
       "\t<tr><th scope=row>x</th><td>11</td><td>12</td><td>13</td><td>14</td><td>15</td><td>16</td><td>17</td><td>18</td><td>19</td><td>20</td></tr>\n",
       "\t<tr><th scope=row></th><td>22</td><td>24</td><td>26</td><td>28</td><td>30</td><td>32</td><td>34</td><td>36</td><td>38</td><td>40</td></tr>\n",
       "\t<tr><th scope=row></th><td>33</td><td>36</td><td>39</td><td>42</td><td>45</td><td>48</td><td>51</td><td>54</td><td>57</td><td>60</td></tr>\n",
       "</tbody>\n",
       "</table>\n"
      ],
      "text/latex": [
       "A matrix: 3 × 10 of type dbl\n",
       "\\begin{tabular}{r|llllllllll}\n",
       "\tx & 11 & 12 & 13 & 14 & 15 & 16 & 17 & 18 & 19 & 20\\\\\n",
       "\t & 22 & 24 & 26 & 28 & 30 & 32 & 34 & 36 & 38 & 40\\\\\n",
       "\t & 33 & 36 & 39 & 42 & 45 & 48 & 51 & 54 & 57 & 60\\\\\n",
       "\\end{tabular}\n"
      ],
      "text/markdown": [
       "\n",
       "A matrix: 3 × 10 of type dbl\n",
       "\n",
       "| x | 11 | 12 | 13 | 14 | 15 | 16 | 17 | 18 | 19 | 20 |\n",
       "| <!----> | 22 | 24 | 26 | 28 | 30 | 32 | 34 | 36 | 38 | 40 |\n",
       "| <!----> | 33 | 36 | 39 | 42 | 45 | 48 | 51 | 54 | 57 | 60 |\n",
       "\n"
      ],
      "text/plain": [
       "  [,1] [,2] [,3] [,4] [,5] [,6] [,7] [,8] [,9] [,10]\n",
       "x 11   12   13   14   15   16   17   18   19   20   \n",
       "  22   24   26   28   30   32   34   36   38   40   \n",
       "  33   36   39   42   45   48   51   54   57   60   "
      ]
     },
     "metadata": {},
     "output_type": "display_data"
    }
   ],
   "source": [
    "x=11:20;rbind(x,2*x,3*x) # Creates a byrow multiple of vector x"
   ]
  },
  {
   "cell_type": "code",
   "execution_count": 20,
   "id": "f1ecc882",
   "metadata": {},
   "outputs": [
    {
     "data": {
      "text/html": [
       "<table class=\"dataframe\">\n",
       "<caption>A matrix: 20 × 2 of type dbl</caption>\n",
       "<tbody>\n",
       "\t<tr><td> 3</td><td> 63</td></tr>\n",
       "\t<tr><td> 6</td><td> 66</td></tr>\n",
       "\t<tr><td> 9</td><td> 69</td></tr>\n",
       "\t<tr><td>12</td><td> 72</td></tr>\n",
       "\t<tr><td>15</td><td> 75</td></tr>\n",
       "\t<tr><td>18</td><td> 78</td></tr>\n",
       "\t<tr><td>21</td><td> 81</td></tr>\n",
       "\t<tr><td>24</td><td> 84</td></tr>\n",
       "\t<tr><td>27</td><td> 87</td></tr>\n",
       "\t<tr><td>30</td><td> 90</td></tr>\n",
       "\t<tr><td>33</td><td> 93</td></tr>\n",
       "\t<tr><td>36</td><td> 96</td></tr>\n",
       "\t<tr><td>39</td><td> 99</td></tr>\n",
       "\t<tr><td>42</td><td>102</td></tr>\n",
       "\t<tr><td>45</td><td>105</td></tr>\n",
       "\t<tr><td>48</td><td>108</td></tr>\n",
       "\t<tr><td>51</td><td>111</td></tr>\n",
       "\t<tr><td>54</td><td>114</td></tr>\n",
       "\t<tr><td>57</td><td>117</td></tr>\n",
       "\t<tr><td>60</td><td>120</td></tr>\n",
       "</tbody>\n",
       "</table>\n"
      ],
      "text/latex": [
       "A matrix: 20 × 2 of type dbl\n",
       "\\begin{tabular}{ll}\n",
       "\t  3 &  63\\\\\n",
       "\t  6 &  66\\\\\n",
       "\t  9 &  69\\\\\n",
       "\t 12 &  72\\\\\n",
       "\t 15 &  75\\\\\n",
       "\t 18 &  78\\\\\n",
       "\t 21 &  81\\\\\n",
       "\t 24 &  84\\\\\n",
       "\t 27 &  87\\\\\n",
       "\t 30 &  90\\\\\n",
       "\t 33 &  93\\\\\n",
       "\t 36 &  96\\\\\n",
       "\t 39 &  99\\\\\n",
       "\t 42 & 102\\\\\n",
       "\t 45 & 105\\\\\n",
       "\t 48 & 108\\\\\n",
       "\t 51 & 111\\\\\n",
       "\t 54 & 114\\\\\n",
       "\t 57 & 117\\\\\n",
       "\t 60 & 120\\\\\n",
       "\\end{tabular}\n"
      ],
      "text/markdown": [
       "\n",
       "A matrix: 20 × 2 of type dbl\n",
       "\n",
       "|  3 |  63 |\n",
       "|  6 |  66 |\n",
       "|  9 |  69 |\n",
       "| 12 |  72 |\n",
       "| 15 |  75 |\n",
       "| 18 |  78 |\n",
       "| 21 |  81 |\n",
       "| 24 |  84 |\n",
       "| 27 |  87 |\n",
       "| 30 |  90 |\n",
       "| 33 |  93 |\n",
       "| 36 |  96 |\n",
       "| 39 |  99 |\n",
       "| 42 | 102 |\n",
       "| 45 | 105 |\n",
       "| 48 | 108 |\n",
       "| 51 | 111 |\n",
       "| 54 | 114 |\n",
       "| 57 | 117 |\n",
       "| 60 | 120 |\n",
       "\n"
      ],
      "text/plain": [
       "      [,1] [,2]\n",
       " [1,]  3    63 \n",
       " [2,]  6    66 \n",
       " [3,]  9    69 \n",
       " [4,] 12    72 \n",
       " [5,] 15    75 \n",
       " [6,] 18    78 \n",
       " [7,] 21    81 \n",
       " [8,] 24    84 \n",
       " [9,] 27    87 \n",
       "[10,] 30    90 \n",
       "[11,] 33    93 \n",
       "[12,] 36    96 \n",
       "[13,] 39    99 \n",
       "[14,] 42   102 \n",
       "[15,] 45   105 \n",
       "[16,] 48   108 \n",
       "[17,] 51   111 \n",
       "[18,] 54   114 \n",
       "[19,] 57   117 \n",
       "[20,] 60   120 "
      ]
     },
     "metadata": {},
     "output_type": "display_data"
    }
   ],
   "source": [
    "x=1:40;matrix(3*x,20,2) # Creating a matrix of 20 x 2"
   ]
  },
  {
   "cell_type": "markdown",
   "id": "14ad4fdb",
   "metadata": {},
   "source": [
    "# Question 5:"
   ]
  },
  {
   "cell_type": "code",
   "execution_count": 21,
   "id": "c63901ec",
   "metadata": {},
   "outputs": [
    {
     "data": {
      "text/html": [
       "<style>\n",
       ".list-inline {list-style: none; margin:0; padding: 0}\n",
       ".list-inline>li {display: inline-block}\n",
       ".list-inline>li:not(:last-child)::after {content: \"\\00b7\"; padding: 0 .5ex}\n",
       "</style>\n",
       "<ol class=list-inline><li>10</li><li>8</li><li>6</li><li>4</li><li>2</li></ol>\n"
      ],
      "text/latex": [
       "\\begin{enumerate*}\n",
       "\\item 10\n",
       "\\item 8\n",
       "\\item 6\n",
       "\\item 4\n",
       "\\item 2\n",
       "\\end{enumerate*}\n"
      ],
      "text/markdown": [
       "1. 10\n",
       "2. 8\n",
       "3. 6\n",
       "4. 4\n",
       "5. 2\n",
       "\n",
       "\n"
      ],
      "text/plain": [
       "[1] 10  8  6  4  2"
      ]
     },
     "metadata": {},
     "output_type": "display_data"
    }
   ],
   "source": [
    "seq(10, 1, -2) # Returns a vector counting down by 2."
   ]
  },
  {
   "cell_type": "code",
   "execution_count": null,
   "id": "1b746e2b",
   "metadata": {},
   "outputs": [],
   "source": []
  },
  {
   "cell_type": "code",
   "execution_count": null,
   "id": "88c8bdc9",
   "metadata": {},
   "outputs": [],
   "source": []
  }
 ],
 "metadata": {
  "kernelspec": {
   "display_name": "R",
   "language": "R",
   "name": "ir"
  },
  "language_info": {
   "codemirror_mode": "r",
   "file_extension": ".r",
   "mimetype": "text/x-r-source",
   "name": "R",
   "pygments_lexer": "r",
   "version": "4.1.3"
  }
 },
 "nbformat": 4,
 "nbformat_minor": 5
}
