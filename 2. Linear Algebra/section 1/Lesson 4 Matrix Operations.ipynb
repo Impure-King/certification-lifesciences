{
 "cells": [
  {
   "cell_type": "code",
   "execution_count": 1,
   "id": "71fff2ed",
   "metadata": {},
   "outputs": [
    {
     "data": {
      "text/html": [
       "<table class=\"dataframe\">\n",
       "<caption>A matrix: 25 × 4 of type int</caption>\n",
       "<tbody>\n",
       "\t<tr><td> 1</td><td>26</td><td>51</td><td> 76</td></tr>\n",
       "\t<tr><td> 2</td><td>27</td><td>52</td><td> 77</td></tr>\n",
       "\t<tr><td> 3</td><td>28</td><td>53</td><td> 78</td></tr>\n",
       "\t<tr><td> 4</td><td>29</td><td>54</td><td> 79</td></tr>\n",
       "\t<tr><td> 5</td><td>30</td><td>55</td><td> 80</td></tr>\n",
       "\t<tr><td> 6</td><td>31</td><td>56</td><td> 81</td></tr>\n",
       "\t<tr><td> 7</td><td>32</td><td>57</td><td> 82</td></tr>\n",
       "\t<tr><td> 8</td><td>33</td><td>58</td><td> 83</td></tr>\n",
       "\t<tr><td> 9</td><td>34</td><td>59</td><td> 84</td></tr>\n",
       "\t<tr><td>10</td><td>35</td><td>60</td><td> 85</td></tr>\n",
       "\t<tr><td>11</td><td>36</td><td>61</td><td> 86</td></tr>\n",
       "\t<tr><td>12</td><td>37</td><td>62</td><td> 87</td></tr>\n",
       "\t<tr><td>13</td><td>38</td><td>63</td><td> 88</td></tr>\n",
       "\t<tr><td>14</td><td>39</td><td>64</td><td> 89</td></tr>\n",
       "\t<tr><td>15</td><td>40</td><td>65</td><td> 90</td></tr>\n",
       "\t<tr><td>16</td><td>41</td><td>66</td><td> 91</td></tr>\n",
       "\t<tr><td>17</td><td>42</td><td>67</td><td> 92</td></tr>\n",
       "\t<tr><td>18</td><td>43</td><td>68</td><td> 93</td></tr>\n",
       "\t<tr><td>19</td><td>44</td><td>69</td><td> 94</td></tr>\n",
       "\t<tr><td>20</td><td>45</td><td>70</td><td> 95</td></tr>\n",
       "\t<tr><td>21</td><td>46</td><td>71</td><td> 96</td></tr>\n",
       "\t<tr><td>22</td><td>47</td><td>72</td><td> 97</td></tr>\n",
       "\t<tr><td>23</td><td>48</td><td>73</td><td> 98</td></tr>\n",
       "\t<tr><td>24</td><td>49</td><td>74</td><td> 99</td></tr>\n",
       "\t<tr><td>25</td><td>50</td><td>75</td><td>100</td></tr>\n",
       "</tbody>\n",
       "</table>\n"
      ],
      "text/latex": [
       "A matrix: 25 × 4 of type int\n",
       "\\begin{tabular}{llll}\n",
       "\t  1 & 26 & 51 &  76\\\\\n",
       "\t  2 & 27 & 52 &  77\\\\\n",
       "\t  3 & 28 & 53 &  78\\\\\n",
       "\t  4 & 29 & 54 &  79\\\\\n",
       "\t  5 & 30 & 55 &  80\\\\\n",
       "\t  6 & 31 & 56 &  81\\\\\n",
       "\t  7 & 32 & 57 &  82\\\\\n",
       "\t  8 & 33 & 58 &  83\\\\\n",
       "\t  9 & 34 & 59 &  84\\\\\n",
       "\t 10 & 35 & 60 &  85\\\\\n",
       "\t 11 & 36 & 61 &  86\\\\\n",
       "\t 12 & 37 & 62 &  87\\\\\n",
       "\t 13 & 38 & 63 &  88\\\\\n",
       "\t 14 & 39 & 64 &  89\\\\\n",
       "\t 15 & 40 & 65 &  90\\\\\n",
       "\t 16 & 41 & 66 &  91\\\\\n",
       "\t 17 & 42 & 67 &  92\\\\\n",
       "\t 18 & 43 & 68 &  93\\\\\n",
       "\t 19 & 44 & 69 &  94\\\\\n",
       "\t 20 & 45 & 70 &  95\\\\\n",
       "\t 21 & 46 & 71 &  96\\\\\n",
       "\t 22 & 47 & 72 &  97\\\\\n",
       "\t 23 & 48 & 73 &  98\\\\\n",
       "\t 24 & 49 & 74 &  99\\\\\n",
       "\t 25 & 50 & 75 & 100\\\\\n",
       "\\end{tabular}\n"
      ],
      "text/markdown": [
       "\n",
       "A matrix: 25 × 4 of type int\n",
       "\n",
       "|  1 | 26 | 51 |  76 |\n",
       "|  2 | 27 | 52 |  77 |\n",
       "|  3 | 28 | 53 |  78 |\n",
       "|  4 | 29 | 54 |  79 |\n",
       "|  5 | 30 | 55 |  80 |\n",
       "|  6 | 31 | 56 |  81 |\n",
       "|  7 | 32 | 57 |  82 |\n",
       "|  8 | 33 | 58 |  83 |\n",
       "|  9 | 34 | 59 |  84 |\n",
       "| 10 | 35 | 60 |  85 |\n",
       "| 11 | 36 | 61 |  86 |\n",
       "| 12 | 37 | 62 |  87 |\n",
       "| 13 | 38 | 63 |  88 |\n",
       "| 14 | 39 | 64 |  89 |\n",
       "| 15 | 40 | 65 |  90 |\n",
       "| 16 | 41 | 66 |  91 |\n",
       "| 17 | 42 | 67 |  92 |\n",
       "| 18 | 43 | 68 |  93 |\n",
       "| 19 | 44 | 69 |  94 |\n",
       "| 20 | 45 | 70 |  95 |\n",
       "| 21 | 46 | 71 |  96 |\n",
       "| 22 | 47 | 72 |  97 |\n",
       "| 23 | 48 | 73 |  98 |\n",
       "| 24 | 49 | 74 |  99 |\n",
       "| 25 | 50 | 75 | 100 |\n",
       "\n"
      ],
      "text/plain": [
       "      [,1] [,2] [,3] [,4]\n",
       " [1,]  1   26   51    76 \n",
       " [2,]  2   27   52    77 \n",
       " [3,]  3   28   53    78 \n",
       " [4,]  4   29   54    79 \n",
       " [5,]  5   30   55    80 \n",
       " [6,]  6   31   56    81 \n",
       " [7,]  7   32   57    82 \n",
       " [8,]  8   33   58    83 \n",
       " [9,]  9   34   59    84 \n",
       "[10,] 10   35   60    85 \n",
       "[11,] 11   36   61    86 \n",
       "[12,] 12   37   62    87 \n",
       "[13,] 13   38   63    88 \n",
       "[14,] 14   39   64    89 \n",
       "[15,] 15   40   65    90 \n",
       "[16,] 16   41   66    91 \n",
       "[17,] 17   42   67    92 \n",
       "[18,] 18   43   68    93 \n",
       "[19,] 19   44   69    94 \n",
       "[20,] 20   45   70    95 \n",
       "[21,] 21   46   71    96 \n",
       "[22,] 22   47   72    97 \n",
       "[23,] 23   48   73    98 \n",
       "[24,] 24   49   74    99 \n",
       "[25,] 25   50   75   100 "
      ]
     },
     "metadata": {},
     "output_type": "display_data"
    }
   ],
   "source": [
    "# Creating a test matrix:\n",
    "a <- matrix(seq(1, 100), 25, 4)\n",
    "a"
   ]
  },
  {
   "cell_type": "code",
   "execution_count": 2,
   "id": "0711624c",
   "metadata": {},
   "outputs": [
    {
     "data": {
      "text/html": [
       "<table class=\"dataframe\">\n",
       "<caption>A matrix: 25 × 4 of type dbl</caption>\n",
       "<tbody>\n",
       "\t<tr><td> 2</td><td> 52</td><td>102</td><td>152</td></tr>\n",
       "\t<tr><td> 4</td><td> 54</td><td>104</td><td>154</td></tr>\n",
       "\t<tr><td> 6</td><td> 56</td><td>106</td><td>156</td></tr>\n",
       "\t<tr><td> 8</td><td> 58</td><td>108</td><td>158</td></tr>\n",
       "\t<tr><td>10</td><td> 60</td><td>110</td><td>160</td></tr>\n",
       "\t<tr><td>12</td><td> 62</td><td>112</td><td>162</td></tr>\n",
       "\t<tr><td>14</td><td> 64</td><td>114</td><td>164</td></tr>\n",
       "\t<tr><td>16</td><td> 66</td><td>116</td><td>166</td></tr>\n",
       "\t<tr><td>18</td><td> 68</td><td>118</td><td>168</td></tr>\n",
       "\t<tr><td>20</td><td> 70</td><td>120</td><td>170</td></tr>\n",
       "\t<tr><td>22</td><td> 72</td><td>122</td><td>172</td></tr>\n",
       "\t<tr><td>24</td><td> 74</td><td>124</td><td>174</td></tr>\n",
       "\t<tr><td>26</td><td> 76</td><td>126</td><td>176</td></tr>\n",
       "\t<tr><td>28</td><td> 78</td><td>128</td><td>178</td></tr>\n",
       "\t<tr><td>30</td><td> 80</td><td>130</td><td>180</td></tr>\n",
       "\t<tr><td>32</td><td> 82</td><td>132</td><td>182</td></tr>\n",
       "\t<tr><td>34</td><td> 84</td><td>134</td><td>184</td></tr>\n",
       "\t<tr><td>36</td><td> 86</td><td>136</td><td>186</td></tr>\n",
       "\t<tr><td>38</td><td> 88</td><td>138</td><td>188</td></tr>\n",
       "\t<tr><td>40</td><td> 90</td><td>140</td><td>190</td></tr>\n",
       "\t<tr><td>42</td><td> 92</td><td>142</td><td>192</td></tr>\n",
       "\t<tr><td>44</td><td> 94</td><td>144</td><td>194</td></tr>\n",
       "\t<tr><td>46</td><td> 96</td><td>146</td><td>196</td></tr>\n",
       "\t<tr><td>48</td><td> 98</td><td>148</td><td>198</td></tr>\n",
       "\t<tr><td>50</td><td>100</td><td>150</td><td>200</td></tr>\n",
       "</tbody>\n",
       "</table>\n"
      ],
      "text/latex": [
       "A matrix: 25 × 4 of type dbl\n",
       "\\begin{tabular}{llll}\n",
       "\t  2 &  52 & 102 & 152\\\\\n",
       "\t  4 &  54 & 104 & 154\\\\\n",
       "\t  6 &  56 & 106 & 156\\\\\n",
       "\t  8 &  58 & 108 & 158\\\\\n",
       "\t 10 &  60 & 110 & 160\\\\\n",
       "\t 12 &  62 & 112 & 162\\\\\n",
       "\t 14 &  64 & 114 & 164\\\\\n",
       "\t 16 &  66 & 116 & 166\\\\\n",
       "\t 18 &  68 & 118 & 168\\\\\n",
       "\t 20 &  70 & 120 & 170\\\\\n",
       "\t 22 &  72 & 122 & 172\\\\\n",
       "\t 24 &  74 & 124 & 174\\\\\n",
       "\t 26 &  76 & 126 & 176\\\\\n",
       "\t 28 &  78 & 128 & 178\\\\\n",
       "\t 30 &  80 & 130 & 180\\\\\n",
       "\t 32 &  82 & 132 & 182\\\\\n",
       "\t 34 &  84 & 134 & 184\\\\\n",
       "\t 36 &  86 & 136 & 186\\\\\n",
       "\t 38 &  88 & 138 & 188\\\\\n",
       "\t 40 &  90 & 140 & 190\\\\\n",
       "\t 42 &  92 & 142 & 192\\\\\n",
       "\t 44 &  94 & 144 & 194\\\\\n",
       "\t 46 &  96 & 146 & 196\\\\\n",
       "\t 48 &  98 & 148 & 198\\\\\n",
       "\t 50 & 100 & 150 & 200\\\\\n",
       "\\end{tabular}\n"
      ],
      "text/markdown": [
       "\n",
       "A matrix: 25 × 4 of type dbl\n",
       "\n",
       "|  2 |  52 | 102 | 152 |\n",
       "|  4 |  54 | 104 | 154 |\n",
       "|  6 |  56 | 106 | 156 |\n",
       "|  8 |  58 | 108 | 158 |\n",
       "| 10 |  60 | 110 | 160 |\n",
       "| 12 |  62 | 112 | 162 |\n",
       "| 14 |  64 | 114 | 164 |\n",
       "| 16 |  66 | 116 | 166 |\n",
       "| 18 |  68 | 118 | 168 |\n",
       "| 20 |  70 | 120 | 170 |\n",
       "| 22 |  72 | 122 | 172 |\n",
       "| 24 |  74 | 124 | 174 |\n",
       "| 26 |  76 | 126 | 176 |\n",
       "| 28 |  78 | 128 | 178 |\n",
       "| 30 |  80 | 130 | 180 |\n",
       "| 32 |  82 | 132 | 182 |\n",
       "| 34 |  84 | 134 | 184 |\n",
       "| 36 |  86 | 136 | 186 |\n",
       "| 38 |  88 | 138 | 188 |\n",
       "| 40 |  90 | 140 | 190 |\n",
       "| 42 |  92 | 142 | 192 |\n",
       "| 44 |  94 | 144 | 194 |\n",
       "| 46 |  96 | 146 | 196 |\n",
       "| 48 |  98 | 148 | 198 |\n",
       "| 50 | 100 | 150 | 200 |\n",
       "\n"
      ],
      "text/plain": [
       "      [,1] [,2] [,3] [,4]\n",
       " [1,]  2    52  102  152 \n",
       " [2,]  4    54  104  154 \n",
       " [3,]  6    56  106  156 \n",
       " [4,]  8    58  108  158 \n",
       " [5,] 10    60  110  160 \n",
       " [6,] 12    62  112  162 \n",
       " [7,] 14    64  114  164 \n",
       " [8,] 16    66  116  166 \n",
       " [9,] 18    68  118  168 \n",
       "[10,] 20    70  120  170 \n",
       "[11,] 22    72  122  172 \n",
       "[12,] 24    74  124  174 \n",
       "[13,] 26    76  126  176 \n",
       "[14,] 28    78  128  178 \n",
       "[15,] 30    80  130  180 \n",
       "[16,] 32    82  132  182 \n",
       "[17,] 34    84  134  184 \n",
       "[18,] 36    86  136  186 \n",
       "[19,] 38    88  138  188 \n",
       "[20,] 40    90  140  190 \n",
       "[21,] 42    92  142  192 \n",
       "[22,] 44    94  144  194 \n",
       "[23,] 46    96  146  196 \n",
       "[24,] 48    98  148  198 \n",
       "[25,] 50   100  150  200 "
      ]
     },
     "metadata": {},
     "output_type": "display_data"
    }
   ],
   "source": [
    "# Scalar multiplication\n",
    "2 * a"
   ]
  },
  {
   "cell_type": "code",
   "execution_count": 4,
   "id": "b2d1e7f1",
   "metadata": {},
   "outputs": [
    {
     "data": {
      "text/html": [
       "<table class=\"dataframe\">\n",
       "<caption>A matrix: 4 × 25 of type int</caption>\n",
       "<tbody>\n",
       "\t<tr><td> 1</td><td> 2</td><td> 3</td><td> 4</td><td> 5</td><td> 6</td><td> 7</td><td> 8</td><td> 9</td><td>10</td><td>...</td><td>16</td><td>17</td><td>18</td><td>19</td><td>20</td><td>21</td><td>22</td><td>23</td><td>24</td><td> 25</td></tr>\n",
       "\t<tr><td>26</td><td>27</td><td>28</td><td>29</td><td>30</td><td>31</td><td>32</td><td>33</td><td>34</td><td>35</td><td>...</td><td>41</td><td>42</td><td>43</td><td>44</td><td>45</td><td>46</td><td>47</td><td>48</td><td>49</td><td> 50</td></tr>\n",
       "\t<tr><td>51</td><td>52</td><td>53</td><td>54</td><td>55</td><td>56</td><td>57</td><td>58</td><td>59</td><td>60</td><td>...</td><td>66</td><td>67</td><td>68</td><td>69</td><td>70</td><td>71</td><td>72</td><td>73</td><td>74</td><td> 75</td></tr>\n",
       "\t<tr><td>76</td><td>77</td><td>78</td><td>79</td><td>80</td><td>81</td><td>82</td><td>83</td><td>84</td><td>85</td><td>...</td><td>91</td><td>92</td><td>93</td><td>94</td><td>95</td><td>96</td><td>97</td><td>98</td><td>99</td><td>100</td></tr>\n",
       "</tbody>\n",
       "</table>\n"
      ],
      "text/latex": [
       "A matrix: 4 × 25 of type int\n",
       "\\begin{tabular}{lllllllllllllllllllll}\n",
       "\t  1 &  2 &  3 &  4 &  5 &  6 &  7 &  8 &  9 & 10 & ... & 16 & 17 & 18 & 19 & 20 & 21 & 22 & 23 & 24 &  25\\\\\n",
       "\t 26 & 27 & 28 & 29 & 30 & 31 & 32 & 33 & 34 & 35 & ... & 41 & 42 & 43 & 44 & 45 & 46 & 47 & 48 & 49 &  50\\\\\n",
       "\t 51 & 52 & 53 & 54 & 55 & 56 & 57 & 58 & 59 & 60 & ... & 66 & 67 & 68 & 69 & 70 & 71 & 72 & 73 & 74 &  75\\\\\n",
       "\t 76 & 77 & 78 & 79 & 80 & 81 & 82 & 83 & 84 & 85 & ... & 91 & 92 & 93 & 94 & 95 & 96 & 97 & 98 & 99 & 100\\\\\n",
       "\\end{tabular}\n"
      ],
      "text/markdown": [
       "\n",
       "A matrix: 4 × 25 of type int\n",
       "\n",
       "|  1 |  2 |  3 |  4 |  5 |  6 |  7 |  8 |  9 | 10 | ... | 16 | 17 | 18 | 19 | 20 | 21 | 22 | 23 | 24 |  25 |\n",
       "| 26 | 27 | 28 | 29 | 30 | 31 | 32 | 33 | 34 | 35 | ... | 41 | 42 | 43 | 44 | 45 | 46 | 47 | 48 | 49 |  50 |\n",
       "| 51 | 52 | 53 | 54 | 55 | 56 | 57 | 58 | 59 | 60 | ... | 66 | 67 | 68 | 69 | 70 | 71 | 72 | 73 | 74 |  75 |\n",
       "| 76 | 77 | 78 | 79 | 80 | 81 | 82 | 83 | 84 | 85 | ... | 91 | 92 | 93 | 94 | 95 | 96 | 97 | 98 | 99 | 100 |\n",
       "\n"
      ],
      "text/plain": [
       "     [,1] [,2] [,3] [,4] [,5] [,6] [,7] [,8] [,9] [,10] [,11] [,12] [,13] [,14]\n",
       "[1,]  1    2    3    4    5    6    7    8    9   10    ...   16    17    18   \n",
       "[2,] 26   27   28   29   30   31   32   33   34   35    ...   41    42    43   \n",
       "[3,] 51   52   53   54   55   56   57   58   59   60    ...   66    67    68   \n",
       "[4,] 76   77   78   79   80   81   82   83   84   85    ...   91    92    93   \n",
       "     [,15] [,16] [,17] [,18] [,19] [,20] [,21]\n",
       "[1,] 19    20    21    22    23    24     25  \n",
       "[2,] 44    45    46    47    48    49     50  \n",
       "[3,] 69    70    71    72    73    74     75  \n",
       "[4,] 94    95    96    97    98    99    100  "
      ]
     },
     "metadata": {},
     "output_type": "display_data"
    }
   ],
   "source": [
    "# transposing a matrix:\n",
    "t(a)"
   ]
  },
  {
   "cell_type": "code",
   "execution_count": 16,
   "id": "94b69a7b",
   "metadata": {},
   "outputs": [
    {
     "data": {
      "text/html": [
       "<table class=\"dataframe\">\n",
       "<caption>A matrix: 4 × 25 of type lgl</caption>\n",
       "<tbody>\n",
       "\t<tr><td>TRUE</td><td>TRUE</td><td>TRUE</td><td>TRUE</td><td>TRUE</td><td>TRUE</td><td>TRUE</td><td>TRUE</td><td>TRUE</td><td>TRUE</td><td>...</td><td>TRUE</td><td>TRUE</td><td>TRUE</td><td>TRUE</td><td>TRUE</td><td>TRUE</td><td>TRUE</td><td>TRUE</td><td>TRUE</td><td>TRUE</td></tr>\n",
       "\t<tr><td>TRUE</td><td>TRUE</td><td>TRUE</td><td>TRUE</td><td>TRUE</td><td>TRUE</td><td>TRUE</td><td>TRUE</td><td>TRUE</td><td>TRUE</td><td>...</td><td>TRUE</td><td>TRUE</td><td>TRUE</td><td>TRUE</td><td>TRUE</td><td>TRUE</td><td>TRUE</td><td>TRUE</td><td>TRUE</td><td>TRUE</td></tr>\n",
       "\t<tr><td>TRUE</td><td>TRUE</td><td>TRUE</td><td>TRUE</td><td>TRUE</td><td>TRUE</td><td>TRUE</td><td>TRUE</td><td>TRUE</td><td>TRUE</td><td>...</td><td>TRUE</td><td>TRUE</td><td>TRUE</td><td>TRUE</td><td>TRUE</td><td>TRUE</td><td>TRUE</td><td>TRUE</td><td>TRUE</td><td>TRUE</td></tr>\n",
       "\t<tr><td>TRUE</td><td>TRUE</td><td>TRUE</td><td>TRUE</td><td>TRUE</td><td>TRUE</td><td>TRUE</td><td>TRUE</td><td>TRUE</td><td>TRUE</td><td>...</td><td>TRUE</td><td>TRUE</td><td>TRUE</td><td>TRUE</td><td>TRUE</td><td>TRUE</td><td>TRUE</td><td>TRUE</td><td>TRUE</td><td>TRUE</td></tr>\n",
       "</tbody>\n",
       "</table>\n"
      ],
      "text/latex": [
       "A matrix: 4 × 25 of type lgl\n",
       "\\begin{tabular}{lllllllllllllllllllll}\n",
       "\t TRUE & TRUE & TRUE & TRUE & TRUE & TRUE & TRUE & TRUE & TRUE & TRUE & ... & TRUE & TRUE & TRUE & TRUE & TRUE & TRUE & TRUE & TRUE & TRUE & TRUE\\\\\n",
       "\t TRUE & TRUE & TRUE & TRUE & TRUE & TRUE & TRUE & TRUE & TRUE & TRUE & ... & TRUE & TRUE & TRUE & TRUE & TRUE & TRUE & TRUE & TRUE & TRUE & TRUE\\\\\n",
       "\t TRUE & TRUE & TRUE & TRUE & TRUE & TRUE & TRUE & TRUE & TRUE & TRUE & ... & TRUE & TRUE & TRUE & TRUE & TRUE & TRUE & TRUE & TRUE & TRUE & TRUE\\\\\n",
       "\t TRUE & TRUE & TRUE & TRUE & TRUE & TRUE & TRUE & TRUE & TRUE & TRUE & ... & TRUE & TRUE & TRUE & TRUE & TRUE & TRUE & TRUE & TRUE & TRUE & TRUE\\\\\n",
       "\\end{tabular}\n"
      ],
      "text/markdown": [
       "\n",
       "A matrix: 4 × 25 of type lgl\n",
       "\n",
       "| TRUE | TRUE | TRUE | TRUE | TRUE | TRUE | TRUE | TRUE | TRUE | TRUE | ... | TRUE | TRUE | TRUE | TRUE | TRUE | TRUE | TRUE | TRUE | TRUE | TRUE |\n",
       "| TRUE | TRUE | TRUE | TRUE | TRUE | TRUE | TRUE | TRUE | TRUE | TRUE | ... | TRUE | TRUE | TRUE | TRUE | TRUE | TRUE | TRUE | TRUE | TRUE | TRUE |\n",
       "| TRUE | TRUE | TRUE | TRUE | TRUE | TRUE | TRUE | TRUE | TRUE | TRUE | ... | TRUE | TRUE | TRUE | TRUE | TRUE | TRUE | TRUE | TRUE | TRUE | TRUE |\n",
       "| TRUE | TRUE | TRUE | TRUE | TRUE | TRUE | TRUE | TRUE | TRUE | TRUE | ... | TRUE | TRUE | TRUE | TRUE | TRUE | TRUE | TRUE | TRUE | TRUE | TRUE |\n",
       "\n"
      ],
      "text/plain": [
       "     [,1] [,2] [,3] [,4] [,5] [,6] [,7] [,8] [,9] [,10] [,11] [,12] [,13] [,14]\n",
       "[1,] TRUE TRUE TRUE TRUE TRUE TRUE TRUE TRUE TRUE TRUE  ...   TRUE  TRUE  TRUE \n",
       "[2,] TRUE TRUE TRUE TRUE TRUE TRUE TRUE TRUE TRUE TRUE  ...   TRUE  TRUE  TRUE \n",
       "[3,] TRUE TRUE TRUE TRUE TRUE TRUE TRUE TRUE TRUE TRUE  ...   TRUE  TRUE  TRUE \n",
       "[4,] TRUE TRUE TRUE TRUE TRUE TRUE TRUE TRUE TRUE TRUE  ...   TRUE  TRUE  TRUE \n",
       "     [,15] [,16] [,17] [,18] [,19] [,20] [,21]\n",
       "[1,] TRUE  TRUE  TRUE  TRUE  TRUE  TRUE  TRUE \n",
       "[2,] TRUE  TRUE  TRUE  TRUE  TRUE  TRUE  TRUE \n",
       "[3,] TRUE  TRUE  TRUE  TRUE  TRUE  TRUE  TRUE \n",
       "[4,] TRUE  TRUE  TRUE  TRUE  TRUE  TRUE  TRUE "
      ]
     },
     "metadata": {},
     "output_type": "display_data"
    }
   ],
   "source": [
    "# Element-Wise Equivalence:\n",
    "t(a) == matrix(seq(1, 100), 4, 25, byrow=TRUE)"
   ]
  },
  {
   "cell_type": "code",
   "execution_count": 8,
   "id": "a823bec9",
   "metadata": {},
   "outputs": [],
   "source": [
    "# Matrix multiplication:\n",
    "mat_multed <- a %*% t(a) # Returns a 25 x 25 matrix\n",
    "mat <- a %o% t(a)"
   ]
  },
  {
   "cell_type": "code",
   "execution_count": 11,
   "id": "523b8283",
   "metadata": {},
   "outputs": [
    {
     "data": {
      "text/html": [
       "4"
      ],
      "text/latex": [
       "4"
      ],
      "text/markdown": [
       "4"
      ],
      "text/plain": [
       "[1] 4"
      ]
     },
     "metadata": {},
     "output_type": "display_data"
    }
   ],
   "source": [
    "ncol(mat)"
   ]
  },
  {
   "cell_type": "code",
   "execution_count": 17,
   "id": "846486d0",
   "metadata": {},
   "outputs": [
    {
     "data": {
      "text/html": [
       "<table class=\"dataframe\">\n",
       "<caption>A matrix: 25 × 4 of type dbl</caption>\n",
       "<tbody>\n",
       "\t<tr><td> 1</td><td>26</td><td>51</td><td> 76</td></tr>\n",
       "\t<tr><td> 2</td><td>27</td><td>52</td><td> 77</td></tr>\n",
       "\t<tr><td> 3</td><td>28</td><td>53</td><td> 78</td></tr>\n",
       "\t<tr><td> 4</td><td>29</td><td>54</td><td> 79</td></tr>\n",
       "\t<tr><td> 5</td><td>30</td><td>55</td><td> 80</td></tr>\n",
       "\t<tr><td> 6</td><td>31</td><td>56</td><td> 81</td></tr>\n",
       "\t<tr><td> 7</td><td>32</td><td>57</td><td> 82</td></tr>\n",
       "\t<tr><td> 8</td><td>33</td><td>58</td><td> 83</td></tr>\n",
       "\t<tr><td> 9</td><td>34</td><td>59</td><td> 84</td></tr>\n",
       "\t<tr><td>10</td><td>35</td><td>60</td><td> 85</td></tr>\n",
       "\t<tr><td>11</td><td>36</td><td>61</td><td> 86</td></tr>\n",
       "\t<tr><td>12</td><td>37</td><td>62</td><td> 87</td></tr>\n",
       "\t<tr><td>13</td><td>38</td><td>63</td><td> 88</td></tr>\n",
       "\t<tr><td>14</td><td>39</td><td>64</td><td> 89</td></tr>\n",
       "\t<tr><td>15</td><td>40</td><td>65</td><td> 90</td></tr>\n",
       "\t<tr><td>16</td><td>41</td><td>66</td><td> 91</td></tr>\n",
       "\t<tr><td>17</td><td>42</td><td>67</td><td> 92</td></tr>\n",
       "\t<tr><td>18</td><td>43</td><td>68</td><td> 93</td></tr>\n",
       "\t<tr><td>19</td><td>44</td><td>69</td><td> 94</td></tr>\n",
       "\t<tr><td>20</td><td>45</td><td>70</td><td> 95</td></tr>\n",
       "\t<tr><td>21</td><td>46</td><td>71</td><td> 96</td></tr>\n",
       "\t<tr><td>22</td><td>47</td><td>72</td><td> 97</td></tr>\n",
       "\t<tr><td>23</td><td>48</td><td>73</td><td> 98</td></tr>\n",
       "\t<tr><td>24</td><td>49</td><td>74</td><td> 99</td></tr>\n",
       "\t<tr><td>25</td><td>50</td><td>75</td><td>100</td></tr>\n",
       "</tbody>\n",
       "</table>\n"
      ],
      "text/latex": [
       "A matrix: 25 × 4 of type dbl\n",
       "\\begin{tabular}{llll}\n",
       "\t  1 & 26 & 51 &  76\\\\\n",
       "\t  2 & 27 & 52 &  77\\\\\n",
       "\t  3 & 28 & 53 &  78\\\\\n",
       "\t  4 & 29 & 54 &  79\\\\\n",
       "\t  5 & 30 & 55 &  80\\\\\n",
       "\t  6 & 31 & 56 &  81\\\\\n",
       "\t  7 & 32 & 57 &  82\\\\\n",
       "\t  8 & 33 & 58 &  83\\\\\n",
       "\t  9 & 34 & 59 &  84\\\\\n",
       "\t 10 & 35 & 60 &  85\\\\\n",
       "\t 11 & 36 & 61 &  86\\\\\n",
       "\t 12 & 37 & 62 &  87\\\\\n",
       "\t 13 & 38 & 63 &  88\\\\\n",
       "\t 14 & 39 & 64 &  89\\\\\n",
       "\t 15 & 40 & 65 &  90\\\\\n",
       "\t 16 & 41 & 66 &  91\\\\\n",
       "\t 17 & 42 & 67 &  92\\\\\n",
       "\t 18 & 43 & 68 &  93\\\\\n",
       "\t 19 & 44 & 69 &  94\\\\\n",
       "\t 20 & 45 & 70 &  95\\\\\n",
       "\t 21 & 46 & 71 &  96\\\\\n",
       "\t 22 & 47 & 72 &  97\\\\\n",
       "\t 23 & 48 & 73 &  98\\\\\n",
       "\t 24 & 49 & 74 &  99\\\\\n",
       "\t 25 & 50 & 75 & 100\\\\\n",
       "\\end{tabular}\n"
      ],
      "text/markdown": [
       "\n",
       "A matrix: 25 × 4 of type dbl\n",
       "\n",
       "|  1 | 26 | 51 |  76 |\n",
       "|  2 | 27 | 52 |  77 |\n",
       "|  3 | 28 | 53 |  78 |\n",
       "|  4 | 29 | 54 |  79 |\n",
       "|  5 | 30 | 55 |  80 |\n",
       "|  6 | 31 | 56 |  81 |\n",
       "|  7 | 32 | 57 |  82 |\n",
       "|  8 | 33 | 58 |  83 |\n",
       "|  9 | 34 | 59 |  84 |\n",
       "| 10 | 35 | 60 |  85 |\n",
       "| 11 | 36 | 61 |  86 |\n",
       "| 12 | 37 | 62 |  87 |\n",
       "| 13 | 38 | 63 |  88 |\n",
       "| 14 | 39 | 64 |  89 |\n",
       "| 15 | 40 | 65 |  90 |\n",
       "| 16 | 41 | 66 |  91 |\n",
       "| 17 | 42 | 67 |  92 |\n",
       "| 18 | 43 | 68 |  93 |\n",
       "| 19 | 44 | 69 |  94 |\n",
       "| 20 | 45 | 70 |  95 |\n",
       "| 21 | 46 | 71 |  96 |\n",
       "| 22 | 47 | 72 |  97 |\n",
       "| 23 | 48 | 73 |  98 |\n",
       "| 24 | 49 | 74 |  99 |\n",
       "| 25 | 50 | 75 | 100 |\n",
       "\n"
      ],
      "text/plain": [
       "      [,1] [,2] [,3] [,4]\n",
       " [1,]  1   26   51    76 \n",
       " [2,]  2   27   52    77 \n",
       " [3,]  3   28   53    78 \n",
       " [4,]  4   29   54    79 \n",
       " [5,]  5   30   55    80 \n",
       " [6,]  6   31   56    81 \n",
       " [7,]  7   32   57    82 \n",
       " [8,]  8   33   58    83 \n",
       " [9,]  9   34   59    84 \n",
       "[10,] 10   35   60    85 \n",
       "[11,] 11   36   61    86 \n",
       "[12,] 12   37   62    87 \n",
       "[13,] 13   38   63    88 \n",
       "[14,] 14   39   64    89 \n",
       "[15,] 15   40   65    90 \n",
       "[16,] 16   41   66    91 \n",
       "[17,] 17   42   67    92 \n",
       "[18,] 18   43   68    93 \n",
       "[19,] 19   44   69    94 \n",
       "[20,] 20   45   70    95 \n",
       "[21,] 21   46   71    96 \n",
       "[22,] 22   47   72    97 \n",
       "[23,] 23   48   73    98 \n",
       "[24,] 24   49   74    99 \n",
       "[25,] 25   50   75   100 "
      ]
     },
     "metadata": {},
     "output_type": "display_data"
    }
   ],
   "source": [
    "matrix(mat, nrow(mat), ncol(mat))"
   ]
  },
  {
   "cell_type": "code",
   "execution_count": 26,
   "id": "b8b3e026",
   "metadata": {},
   "outputs": [
    {
     "data": {
      "text/html": [
       "<table class=\"dataframe\">\n",
       "<caption>A matrix: 3 × 3 of type dbl</caption>\n",
       "<tbody>\n",
       "\t<tr><td>1</td><td>0</td><td>0</td></tr>\n",
       "\t<tr><td>0</td><td>1</td><td>0</td></tr>\n",
       "\t<tr><td>0</td><td>0</td><td>1</td></tr>\n",
       "</tbody>\n",
       "</table>\n"
      ],
      "text/latex": [
       "A matrix: 3 × 3 of type dbl\n",
       "\\begin{tabular}{lll}\n",
       "\t 1 & 0 & 0\\\\\n",
       "\t 0 & 1 & 0\\\\\n",
       "\t 0 & 0 & 1\\\\\n",
       "\\end{tabular}\n"
      ],
      "text/markdown": [
       "\n",
       "A matrix: 3 × 3 of type dbl\n",
       "\n",
       "| 1 | 0 | 0 |\n",
       "| 0 | 1 | 0 |\n",
       "| 0 | 0 | 1 |\n",
       "\n"
      ],
      "text/plain": [
       "     [,1] [,2] [,3]\n",
       "[1,] 1    0    0   \n",
       "[2,] 0    1    0   \n",
       "[3,] 0    0    1   "
      ]
     },
     "metadata": {},
     "output_type": "display_data"
    }
   ],
   "source": [
    "# Creating an identity matrix:\n",
    "diag(3)"
   ]
  },
  {
   "cell_type": "markdown",
   "id": "c3cf299c",
   "metadata": {},
   "source": [
    "# Question 1:"
   ]
  },
  {
   "cell_type": "code",
   "execution_count": 18,
   "id": "5e5993f5",
   "metadata": {},
   "outputs": [],
   "source": [
    "x = matrix(seq(1, 100), 10, 10)"
   ]
  },
  {
   "cell_type": "code",
   "execution_count": 19,
   "id": "f755d2cc",
   "metadata": {},
   "outputs": [
    {
     "data": {
      "text/html": [
       "<table class=\"dataframe\">\n",
       "<caption>A matrix: 10 × 10 of type lgl</caption>\n",
       "<tbody>\n",
       "\t<tr><td>TRUE</td><td>TRUE</td><td>TRUE</td><td>TRUE</td><td>TRUE</td><td>TRUE</td><td>TRUE</td><td>TRUE</td><td>TRUE</td><td>TRUE</td></tr>\n",
       "\t<tr><td>TRUE</td><td>TRUE</td><td>TRUE</td><td>TRUE</td><td>TRUE</td><td>TRUE</td><td>TRUE</td><td>TRUE</td><td>TRUE</td><td>TRUE</td></tr>\n",
       "\t<tr><td>TRUE</td><td>TRUE</td><td>TRUE</td><td>TRUE</td><td>TRUE</td><td>TRUE</td><td>TRUE</td><td>TRUE</td><td>TRUE</td><td>TRUE</td></tr>\n",
       "\t<tr><td>TRUE</td><td>TRUE</td><td>TRUE</td><td>TRUE</td><td>TRUE</td><td>TRUE</td><td>TRUE</td><td>TRUE</td><td>TRUE</td><td>TRUE</td></tr>\n",
       "\t<tr><td>TRUE</td><td>TRUE</td><td>TRUE</td><td>TRUE</td><td>TRUE</td><td>TRUE</td><td>TRUE</td><td>TRUE</td><td>TRUE</td><td>TRUE</td></tr>\n",
       "\t<tr><td>TRUE</td><td>TRUE</td><td>TRUE</td><td>TRUE</td><td>TRUE</td><td>TRUE</td><td>TRUE</td><td>TRUE</td><td>TRUE</td><td>TRUE</td></tr>\n",
       "\t<tr><td>TRUE</td><td>TRUE</td><td>TRUE</td><td>TRUE</td><td>TRUE</td><td>TRUE</td><td>TRUE</td><td>TRUE</td><td>TRUE</td><td>TRUE</td></tr>\n",
       "\t<tr><td>TRUE</td><td>TRUE</td><td>TRUE</td><td>TRUE</td><td>TRUE</td><td>TRUE</td><td>TRUE</td><td>TRUE</td><td>TRUE</td><td>TRUE</td></tr>\n",
       "\t<tr><td>TRUE</td><td>TRUE</td><td>TRUE</td><td>TRUE</td><td>TRUE</td><td>TRUE</td><td>TRUE</td><td>TRUE</td><td>TRUE</td><td>TRUE</td></tr>\n",
       "\t<tr><td>TRUE</td><td>TRUE</td><td>TRUE</td><td>TRUE</td><td>TRUE</td><td>TRUE</td><td>TRUE</td><td>TRUE</td><td>TRUE</td><td>TRUE</td></tr>\n",
       "</tbody>\n",
       "</table>\n"
      ],
      "text/latex": [
       "A matrix: 10 × 10 of type lgl\n",
       "\\begin{tabular}{llllllllll}\n",
       "\t TRUE & TRUE & TRUE & TRUE & TRUE & TRUE & TRUE & TRUE & TRUE & TRUE\\\\\n",
       "\t TRUE & TRUE & TRUE & TRUE & TRUE & TRUE & TRUE & TRUE & TRUE & TRUE\\\\\n",
       "\t TRUE & TRUE & TRUE & TRUE & TRUE & TRUE & TRUE & TRUE & TRUE & TRUE\\\\\n",
       "\t TRUE & TRUE & TRUE & TRUE & TRUE & TRUE & TRUE & TRUE & TRUE & TRUE\\\\\n",
       "\t TRUE & TRUE & TRUE & TRUE & TRUE & TRUE & TRUE & TRUE & TRUE & TRUE\\\\\n",
       "\t TRUE & TRUE & TRUE & TRUE & TRUE & TRUE & TRUE & TRUE & TRUE & TRUE\\\\\n",
       "\t TRUE & TRUE & TRUE & TRUE & TRUE & TRUE & TRUE & TRUE & TRUE & TRUE\\\\\n",
       "\t TRUE & TRUE & TRUE & TRUE & TRUE & TRUE & TRUE & TRUE & TRUE & TRUE\\\\\n",
       "\t TRUE & TRUE & TRUE & TRUE & TRUE & TRUE & TRUE & TRUE & TRUE & TRUE\\\\\n",
       "\t TRUE & TRUE & TRUE & TRUE & TRUE & TRUE & TRUE & TRUE & TRUE & TRUE\\\\\n",
       "\\end{tabular}\n"
      ],
      "text/markdown": [
       "\n",
       "A matrix: 10 × 10 of type lgl\n",
       "\n",
       "| TRUE | TRUE | TRUE | TRUE | TRUE | TRUE | TRUE | TRUE | TRUE | TRUE |\n",
       "| TRUE | TRUE | TRUE | TRUE | TRUE | TRUE | TRUE | TRUE | TRUE | TRUE |\n",
       "| TRUE | TRUE | TRUE | TRUE | TRUE | TRUE | TRUE | TRUE | TRUE | TRUE |\n",
       "| TRUE | TRUE | TRUE | TRUE | TRUE | TRUE | TRUE | TRUE | TRUE | TRUE |\n",
       "| TRUE | TRUE | TRUE | TRUE | TRUE | TRUE | TRUE | TRUE | TRUE | TRUE |\n",
       "| TRUE | TRUE | TRUE | TRUE | TRUE | TRUE | TRUE | TRUE | TRUE | TRUE |\n",
       "| TRUE | TRUE | TRUE | TRUE | TRUE | TRUE | TRUE | TRUE | TRUE | TRUE |\n",
       "| TRUE | TRUE | TRUE | TRUE | TRUE | TRUE | TRUE | TRUE | TRUE | TRUE |\n",
       "| TRUE | TRUE | TRUE | TRUE | TRUE | TRUE | TRUE | TRUE | TRUE | TRUE |\n",
       "| TRUE | TRUE | TRUE | TRUE | TRUE | TRUE | TRUE | TRUE | TRUE | TRUE |\n",
       "\n"
      ],
      "text/plain": [
       "      [,1] [,2] [,3] [,4] [,5] [,6] [,7] [,8] [,9] [,10]\n",
       " [1,] TRUE TRUE TRUE TRUE TRUE TRUE TRUE TRUE TRUE TRUE \n",
       " [2,] TRUE TRUE TRUE TRUE TRUE TRUE TRUE TRUE TRUE TRUE \n",
       " [3,] TRUE TRUE TRUE TRUE TRUE TRUE TRUE TRUE TRUE TRUE \n",
       " [4,] TRUE TRUE TRUE TRUE TRUE TRUE TRUE TRUE TRUE TRUE \n",
       " [5,] TRUE TRUE TRUE TRUE TRUE TRUE TRUE TRUE TRUE TRUE \n",
       " [6,] TRUE TRUE TRUE TRUE TRUE TRUE TRUE TRUE TRUE TRUE \n",
       " [7,] TRUE TRUE TRUE TRUE TRUE TRUE TRUE TRUE TRUE TRUE \n",
       " [8,] TRUE TRUE TRUE TRUE TRUE TRUE TRUE TRUE TRUE TRUE \n",
       " [9,] TRUE TRUE TRUE TRUE TRUE TRUE TRUE TRUE TRUE TRUE \n",
       "[10,] TRUE TRUE TRUE TRUE TRUE TRUE TRUE TRUE TRUE TRUE "
      ]
     },
     "metadata": {},
     "output_type": "display_data"
    }
   ],
   "source": [
    "t(t(x)) == x"
   ]
  },
  {
   "cell_type": "code",
   "execution_count": 22,
   "id": "1becface",
   "metadata": {},
   "outputs": [
    {
     "data": {
      "text/html": [
       "<table class=\"dataframe\">\n",
       "<caption>A matrix: 10 × 1 of type dbl</caption>\n",
       "<tbody>\n",
       "\t<tr><td>460</td></tr>\n",
       "\t<tr><td>470</td></tr>\n",
       "\t<tr><td>480</td></tr>\n",
       "\t<tr><td>490</td></tr>\n",
       "\t<tr><td>500</td></tr>\n",
       "\t<tr><td>510</td></tr>\n",
       "\t<tr><td>520</td></tr>\n",
       "\t<tr><td>530</td></tr>\n",
       "\t<tr><td>540</td></tr>\n",
       "\t<tr><td>550</td></tr>\n",
       "</tbody>\n",
       "</table>\n"
      ],
      "text/latex": [
       "A matrix: 10 × 1 of type dbl\n",
       "\\begin{tabular}{l}\n",
       "\t 460\\\\\n",
       "\t 470\\\\\n",
       "\t 480\\\\\n",
       "\t 490\\\\\n",
       "\t 500\\\\\n",
       "\t 510\\\\\n",
       "\t 520\\\\\n",
       "\t 530\\\\\n",
       "\t 540\\\\\n",
       "\t 550\\\\\n",
       "\\end{tabular}\n"
      ],
      "text/markdown": [
       "\n",
       "A matrix: 10 × 1 of type dbl\n",
       "\n",
       "| 460 |\n",
       "| 470 |\n",
       "| 480 |\n",
       "| 490 |\n",
       "| 500 |\n",
       "| 510 |\n",
       "| 520 |\n",
       "| 530 |\n",
       "| 540 |\n",
       "| 550 |\n",
       "\n"
      ],
      "text/plain": [
       "      [,1]\n",
       " [1,] 460 \n",
       " [2,] 470 \n",
       " [3,] 480 \n",
       " [4,] 490 \n",
       " [5,] 500 \n",
       " [6,] 510 \n",
       " [7,] 520 \n",
       " [8,] 530 \n",
       " [9,] 540 \n",
       "[10,] 550 "
      ]
     },
     "metadata": {},
     "output_type": "display_data"
    }
   ],
   "source": [
    "a <- x %*% matrix(1, ncol(x))\n",
    "matrix(a, nrow(a), ncol(a))"
   ]
  },
  {
   "cell_type": "code",
   "execution_count": 23,
   "id": "e26eea3d",
   "metadata": {},
   "outputs": [
    {
     "data": {
      "text/html": [
       "<table class=\"dataframe\">\n",
       "<caption>A matrix: 10 × 10 of type lgl</caption>\n",
       "<tbody>\n",
       "\t<tr><td>TRUE</td><td>TRUE</td><td>TRUE</td><td>TRUE</td><td>TRUE</td><td>TRUE</td><td>TRUE</td><td>TRUE</td><td>TRUE</td><td>TRUE</td></tr>\n",
       "\t<tr><td>TRUE</td><td>TRUE</td><td>TRUE</td><td>TRUE</td><td>TRUE</td><td>TRUE</td><td>TRUE</td><td>TRUE</td><td>TRUE</td><td>TRUE</td></tr>\n",
       "\t<tr><td>TRUE</td><td>TRUE</td><td>TRUE</td><td>TRUE</td><td>TRUE</td><td>TRUE</td><td>TRUE</td><td>TRUE</td><td>TRUE</td><td>TRUE</td></tr>\n",
       "\t<tr><td>TRUE</td><td>TRUE</td><td>TRUE</td><td>TRUE</td><td>TRUE</td><td>TRUE</td><td>TRUE</td><td>TRUE</td><td>TRUE</td><td>TRUE</td></tr>\n",
       "\t<tr><td>TRUE</td><td>TRUE</td><td>TRUE</td><td>TRUE</td><td>TRUE</td><td>TRUE</td><td>TRUE</td><td>TRUE</td><td>TRUE</td><td>TRUE</td></tr>\n",
       "\t<tr><td>TRUE</td><td>TRUE</td><td>TRUE</td><td>TRUE</td><td>TRUE</td><td>TRUE</td><td>TRUE</td><td>TRUE</td><td>TRUE</td><td>TRUE</td></tr>\n",
       "\t<tr><td>TRUE</td><td>TRUE</td><td>TRUE</td><td>TRUE</td><td>TRUE</td><td>TRUE</td><td>TRUE</td><td>TRUE</td><td>TRUE</td><td>TRUE</td></tr>\n",
       "\t<tr><td>TRUE</td><td>TRUE</td><td>TRUE</td><td>TRUE</td><td>TRUE</td><td>TRUE</td><td>TRUE</td><td>TRUE</td><td>TRUE</td><td>TRUE</td></tr>\n",
       "\t<tr><td>TRUE</td><td>TRUE</td><td>TRUE</td><td>TRUE</td><td>TRUE</td><td>TRUE</td><td>TRUE</td><td>TRUE</td><td>TRUE</td><td>TRUE</td></tr>\n",
       "\t<tr><td>TRUE</td><td>TRUE</td><td>TRUE</td><td>TRUE</td><td>TRUE</td><td>TRUE</td><td>TRUE</td><td>TRUE</td><td>TRUE</td><td>TRUE</td></tr>\n",
       "</tbody>\n",
       "</table>\n"
      ],
      "text/latex": [
       "A matrix: 10 × 10 of type lgl\n",
       "\\begin{tabular}{llllllllll}\n",
       "\t TRUE & TRUE & TRUE & TRUE & TRUE & TRUE & TRUE & TRUE & TRUE & TRUE\\\\\n",
       "\t TRUE & TRUE & TRUE & TRUE & TRUE & TRUE & TRUE & TRUE & TRUE & TRUE\\\\\n",
       "\t TRUE & TRUE & TRUE & TRUE & TRUE & TRUE & TRUE & TRUE & TRUE & TRUE\\\\\n",
       "\t TRUE & TRUE & TRUE & TRUE & TRUE & TRUE & TRUE & TRUE & TRUE & TRUE\\\\\n",
       "\t TRUE & TRUE & TRUE & TRUE & TRUE & TRUE & TRUE & TRUE & TRUE & TRUE\\\\\n",
       "\t TRUE & TRUE & TRUE & TRUE & TRUE & TRUE & TRUE & TRUE & TRUE & TRUE\\\\\n",
       "\t TRUE & TRUE & TRUE & TRUE & TRUE & TRUE & TRUE & TRUE & TRUE & TRUE\\\\\n",
       "\t TRUE & TRUE & TRUE & TRUE & TRUE & TRUE & TRUE & TRUE & TRUE & TRUE\\\\\n",
       "\t TRUE & TRUE & TRUE & TRUE & TRUE & TRUE & TRUE & TRUE & TRUE & TRUE\\\\\n",
       "\t TRUE & TRUE & TRUE & TRUE & TRUE & TRUE & TRUE & TRUE & TRUE & TRUE\\\\\n",
       "\\end{tabular}\n"
      ],
      "text/markdown": [
       "\n",
       "A matrix: 10 × 10 of type lgl\n",
       "\n",
       "| TRUE | TRUE | TRUE | TRUE | TRUE | TRUE | TRUE | TRUE | TRUE | TRUE |\n",
       "| TRUE | TRUE | TRUE | TRUE | TRUE | TRUE | TRUE | TRUE | TRUE | TRUE |\n",
       "| TRUE | TRUE | TRUE | TRUE | TRUE | TRUE | TRUE | TRUE | TRUE | TRUE |\n",
       "| TRUE | TRUE | TRUE | TRUE | TRUE | TRUE | TRUE | TRUE | TRUE | TRUE |\n",
       "| TRUE | TRUE | TRUE | TRUE | TRUE | TRUE | TRUE | TRUE | TRUE | TRUE |\n",
       "| TRUE | TRUE | TRUE | TRUE | TRUE | TRUE | TRUE | TRUE | TRUE | TRUE |\n",
       "| TRUE | TRUE | TRUE | TRUE | TRUE | TRUE | TRUE | TRUE | TRUE | TRUE |\n",
       "| TRUE | TRUE | TRUE | TRUE | TRUE | TRUE | TRUE | TRUE | TRUE | TRUE |\n",
       "| TRUE | TRUE | TRUE | TRUE | TRUE | TRUE | TRUE | TRUE | TRUE | TRUE |\n",
       "| TRUE | TRUE | TRUE | TRUE | TRUE | TRUE | TRUE | TRUE | TRUE | TRUE |\n",
       "\n"
      ],
      "text/plain": [
       "      [,1] [,2] [,3] [,4] [,5] [,6] [,7] [,8] [,9] [,10]\n",
       " [1,] TRUE TRUE TRUE TRUE TRUE TRUE TRUE TRUE TRUE TRUE \n",
       " [2,] TRUE TRUE TRUE TRUE TRUE TRUE TRUE TRUE TRUE TRUE \n",
       " [3,] TRUE TRUE TRUE TRUE TRUE TRUE TRUE TRUE TRUE TRUE \n",
       " [4,] TRUE TRUE TRUE TRUE TRUE TRUE TRUE TRUE TRUE TRUE \n",
       " [5,] TRUE TRUE TRUE TRUE TRUE TRUE TRUE TRUE TRUE TRUE \n",
       " [6,] TRUE TRUE TRUE TRUE TRUE TRUE TRUE TRUE TRUE TRUE \n",
       " [7,] TRUE TRUE TRUE TRUE TRUE TRUE TRUE TRUE TRUE TRUE \n",
       " [8,] TRUE TRUE TRUE TRUE TRUE TRUE TRUE TRUE TRUE TRUE \n",
       " [9,] TRUE TRUE TRUE TRUE TRUE TRUE TRUE TRUE TRUE TRUE \n",
       "[10,] TRUE TRUE TRUE TRUE TRUE TRUE TRUE TRUE TRUE TRUE "
      ]
     },
     "metadata": {},
     "output_type": "display_data"
    }
   ],
   "source": [
    "x * 1 == x"
   ]
  },
  {
   "cell_type": "code",
   "execution_count": 25,
   "id": "2f239dec",
   "metadata": {},
   "outputs": [
    {
     "data": {
      "text/html": [
       "<table class=\"dataframe\">\n",
       "<caption>A matrix: 10 × 10 of type dbl</caption>\n",
       "<tbody>\n",
       "\t<tr><td>1</td><td>0</td><td>0</td><td>0</td><td>0</td><td>0</td><td>0</td><td>0</td><td>0</td><td>0</td></tr>\n",
       "\t<tr><td>0</td><td>1</td><td>0</td><td>0</td><td>0</td><td>0</td><td>0</td><td>0</td><td>0</td><td>0</td></tr>\n",
       "\t<tr><td>0</td><td>0</td><td>1</td><td>0</td><td>0</td><td>0</td><td>0</td><td>0</td><td>0</td><td>0</td></tr>\n",
       "\t<tr><td>0</td><td>0</td><td>0</td><td>1</td><td>0</td><td>0</td><td>0</td><td>0</td><td>0</td><td>0</td></tr>\n",
       "\t<tr><td>0</td><td>0</td><td>0</td><td>0</td><td>1</td><td>0</td><td>0</td><td>0</td><td>0</td><td>0</td></tr>\n",
       "\t<tr><td>0</td><td>0</td><td>0</td><td>0</td><td>0</td><td>1</td><td>0</td><td>0</td><td>0</td><td>0</td></tr>\n",
       "\t<tr><td>0</td><td>0</td><td>0</td><td>0</td><td>0</td><td>0</td><td>1</td><td>0</td><td>0</td><td>0</td></tr>\n",
       "\t<tr><td>0</td><td>0</td><td>0</td><td>0</td><td>0</td><td>0</td><td>0</td><td>1</td><td>0</td><td>0</td></tr>\n",
       "\t<tr><td>0</td><td>0</td><td>0</td><td>0</td><td>0</td><td>0</td><td>0</td><td>0</td><td>1</td><td>0</td></tr>\n",
       "\t<tr><td>0</td><td>0</td><td>0</td><td>0</td><td>0</td><td>0</td><td>0</td><td>0</td><td>0</td><td>1</td></tr>\n",
       "</tbody>\n",
       "</table>\n"
      ],
      "text/latex": [
       "A matrix: 10 × 10 of type dbl\n",
       "\\begin{tabular}{llllllllll}\n",
       "\t 1 & 0 & 0 & 0 & 0 & 0 & 0 & 0 & 0 & 0\\\\\n",
       "\t 0 & 1 & 0 & 0 & 0 & 0 & 0 & 0 & 0 & 0\\\\\n",
       "\t 0 & 0 & 1 & 0 & 0 & 0 & 0 & 0 & 0 & 0\\\\\n",
       "\t 0 & 0 & 0 & 1 & 0 & 0 & 0 & 0 & 0 & 0\\\\\n",
       "\t 0 & 0 & 0 & 0 & 1 & 0 & 0 & 0 & 0 & 0\\\\\n",
       "\t 0 & 0 & 0 & 0 & 0 & 1 & 0 & 0 & 0 & 0\\\\\n",
       "\t 0 & 0 & 0 & 0 & 0 & 0 & 1 & 0 & 0 & 0\\\\\n",
       "\t 0 & 0 & 0 & 0 & 0 & 0 & 0 & 1 & 0 & 0\\\\\n",
       "\t 0 & 0 & 0 & 0 & 0 & 0 & 0 & 0 & 1 & 0\\\\\n",
       "\t 0 & 0 & 0 & 0 & 0 & 0 & 0 & 0 & 0 & 1\\\\\n",
       "\\end{tabular}\n"
      ],
      "text/markdown": [
       "\n",
       "A matrix: 10 × 10 of type dbl\n",
       "\n",
       "| 1 | 0 | 0 | 0 | 0 | 0 | 0 | 0 | 0 | 0 |\n",
       "| 0 | 1 | 0 | 0 | 0 | 0 | 0 | 0 | 0 | 0 |\n",
       "| 0 | 0 | 1 | 0 | 0 | 0 | 0 | 0 | 0 | 0 |\n",
       "| 0 | 0 | 0 | 1 | 0 | 0 | 0 | 0 | 0 | 0 |\n",
       "| 0 | 0 | 0 | 0 | 1 | 0 | 0 | 0 | 0 | 0 |\n",
       "| 0 | 0 | 0 | 0 | 0 | 1 | 0 | 0 | 0 | 0 |\n",
       "| 0 | 0 | 0 | 0 | 0 | 0 | 1 | 0 | 0 | 0 |\n",
       "| 0 | 0 | 0 | 0 | 0 | 0 | 0 | 1 | 0 | 0 |\n",
       "| 0 | 0 | 0 | 0 | 0 | 0 | 0 | 0 | 1 | 0 |\n",
       "| 0 | 0 | 0 | 0 | 0 | 0 | 0 | 0 | 0 | 1 |\n",
       "\n"
      ],
      "text/plain": [
       "      [,1] [,2] [,3] [,4] [,5] [,6] [,7] [,8] [,9] [,10]\n",
       " [1,] 1    0    0    0    0    0    0    0    0    0    \n",
       " [2,] 0    1    0    0    0    0    0    0    0    0    \n",
       " [3,] 0    0    1    0    0    0    0    0    0    0    \n",
       " [4,] 0    0    0    1    0    0    0    0    0    0    \n",
       " [5,] 0    0    0    0    1    0    0    0    0    0    \n",
       " [6,] 0    0    0    0    0    1    0    0    0    0    \n",
       " [7,] 0    0    0    0    0    0    1    0    0    0    \n",
       " [8,] 0    0    0    0    0    0    0    1    0    0    \n",
       " [9,] 0    0    0    0    0    0    0    0    1    0    \n",
       "[10,] 0    0    0    0    0    0    0    0    0    1    "
      ]
     },
     "metadata": {},
     "output_type": "display_data"
    }
   ],
   "source": [
    "diag(ncol(x))"
   ]
  },
  {
   "cell_type": "code",
   "execution_count": null,
   "id": "e5c24507",
   "metadata": {},
   "outputs": [],
   "source": [
    "# You can solve linear equations using the linear formula and the solve function."
   ]
  },
  {
   "cell_type": "markdown",
   "id": "93395cac",
   "metadata": {},
   "source": [
    "# Question 2:"
   ]
  },
  {
   "cell_type": "code",
   "execution_count": 30,
   "id": "09c41e0e",
   "metadata": {},
   "outputs": [],
   "source": [
    "# Creating an matrix:\n",
    "answer_mat <- cbind(c(10, 5, 7, 4))\n",
    "coff_mat <- matrix(c(3, 4, -5, 1, 2, 2, 2, -1, 1, -1, 5, -5, 5, 0, 0, 1), 4, 4, byrow=TRUE)"
   ]
  },
  {
   "cell_type": "code",
   "execution_count": 31,
   "id": "38982e19",
   "metadata": {},
   "outputs": [
    {
     "data": {
      "text/html": [
       "<table class=\"dataframe\">\n",
       "<caption>A matrix: 4 × 1 of type dbl</caption>\n",
       "<tbody>\n",
       "\t<tr><td>10</td></tr>\n",
       "\t<tr><td> 5</td></tr>\n",
       "\t<tr><td> 7</td></tr>\n",
       "\t<tr><td> 4</td></tr>\n",
       "</tbody>\n",
       "</table>\n"
      ],
      "text/latex": [
       "A matrix: 4 × 1 of type dbl\n",
       "\\begin{tabular}{l}\n",
       "\t 10\\\\\n",
       "\t  5\\\\\n",
       "\t  7\\\\\n",
       "\t  4\\\\\n",
       "\\end{tabular}\n"
      ],
      "text/markdown": [
       "\n",
       "A matrix: 4 × 1 of type dbl\n",
       "\n",
       "| 10 |\n",
       "|  5 |\n",
       "|  7 |\n",
       "|  4 |\n",
       "\n"
      ],
      "text/plain": [
       "     [,1]\n",
       "[1,] 10  \n",
       "[2,]  5  \n",
       "[3,]  7  \n",
       "[4,]  4  "
      ]
     },
     "metadata": {},
     "output_type": "display_data"
    }
   ],
   "source": [
    "answer_mat"
   ]
  },
  {
   "cell_type": "code",
   "execution_count": 32,
   "id": "92c7d904",
   "metadata": {},
   "outputs": [
    {
     "data": {
      "text/html": [
       "<table class=\"dataframe\">\n",
       "<caption>A matrix: 4 × 4 of type dbl</caption>\n",
       "<tbody>\n",
       "\t<tr><td>3</td><td> 4</td><td>-5</td><td> 1</td></tr>\n",
       "\t<tr><td>2</td><td> 2</td><td> 2</td><td>-1</td></tr>\n",
       "\t<tr><td>1</td><td>-1</td><td> 5</td><td>-5</td></tr>\n",
       "\t<tr><td>5</td><td> 0</td><td> 0</td><td> 1</td></tr>\n",
       "</tbody>\n",
       "</table>\n"
      ],
      "text/latex": [
       "A matrix: 4 × 4 of type dbl\n",
       "\\begin{tabular}{llll}\n",
       "\t 3 &  4 & -5 &  1\\\\\n",
       "\t 2 &  2 &  2 & -1\\\\\n",
       "\t 1 & -1 &  5 & -5\\\\\n",
       "\t 5 &  0 &  0 &  1\\\\\n",
       "\\end{tabular}\n"
      ],
      "text/markdown": [
       "\n",
       "A matrix: 4 × 4 of type dbl\n",
       "\n",
       "| 3 |  4 | -5 |  1 |\n",
       "| 2 |  2 |  2 | -1 |\n",
       "| 1 | -1 |  5 | -5 |\n",
       "| 5 |  0 |  0 |  1 |\n",
       "\n"
      ],
      "text/plain": [
       "     [,1] [,2] [,3] [,4]\n",
       "[1,] 3     4   -5    1  \n",
       "[2,] 2     2    2   -1  \n",
       "[3,] 1    -1    5   -5  \n",
       "[4,] 5     0    0    1  "
      ]
     },
     "metadata": {},
     "output_type": "display_data"
    }
   ],
   "source": [
    "coff_mat"
   ]
  },
  {
   "cell_type": "code",
   "execution_count": 37,
   "id": "d2ba35fd",
   "metadata": {},
   "outputs": [],
   "source": [
    "parameter <- solve(coff_mat, answer_mat)"
   ]
  },
  {
   "cell_type": "code",
   "execution_count": 38,
   "id": "d8f4fc5d",
   "metadata": {},
   "outputs": [
    {
     "data": {
      "text/html": [
       "<table class=\"dataframe\">\n",
       "<caption>A matrix: 4 × 1 of type dbl</caption>\n",
       "<tbody>\n",
       "\t<tr><td>10</td></tr>\n",
       "\t<tr><td> 5</td></tr>\n",
       "\t<tr><td> 7</td></tr>\n",
       "\t<tr><td> 4</td></tr>\n",
       "</tbody>\n",
       "</table>\n"
      ],
      "text/latex": [
       "A matrix: 4 × 1 of type dbl\n",
       "\\begin{tabular}{l}\n",
       "\t 10\\\\\n",
       "\t  5\\\\\n",
       "\t  7\\\\\n",
       "\t  4\\\\\n",
       "\\end{tabular}\n"
      ],
      "text/markdown": [
       "\n",
       "A matrix: 4 × 1 of type dbl\n",
       "\n",
       "| 10 |\n",
       "|  5 |\n",
       "|  7 |\n",
       "|  4 |\n",
       "\n"
      ],
      "text/plain": [
       "     [,1]\n",
       "[1,] 10  \n",
       "[2,]  5  \n",
       "[3,]  7  \n",
       "[4,]  4  "
      ]
     },
     "metadata": {},
     "output_type": "display_data"
    }
   ],
   "source": [
    "coff_mat %*% parameter"
   ]
  },
  {
   "cell_type": "code",
   "execution_count": 39,
   "id": "409e761f",
   "metadata": {},
   "outputs": [
    {
     "data": {
      "text/html": [
       "<table class=\"dataframe\">\n",
       "<caption>A matrix: 4 × 1 of type dbl</caption>\n",
       "<tbody>\n",
       "\t<tr><td> 1.2477876</td></tr>\n",
       "\t<tr><td> 1.0176991</td></tr>\n",
       "\t<tr><td>-0.8849558</td></tr>\n",
       "\t<tr><td>-2.2389381</td></tr>\n",
       "</tbody>\n",
       "</table>\n"
      ],
      "text/latex": [
       "A matrix: 4 × 1 of type dbl\n",
       "\\begin{tabular}{l}\n",
       "\t  1.2477876\\\\\n",
       "\t  1.0176991\\\\\n",
       "\t -0.8849558\\\\\n",
       "\t -2.2389381\\\\\n",
       "\\end{tabular}\n"
      ],
      "text/markdown": [
       "\n",
       "A matrix: 4 × 1 of type dbl\n",
       "\n",
       "|  1.2477876 |\n",
       "|  1.0176991 |\n",
       "| -0.8849558 |\n",
       "| -2.2389381 |\n",
       "\n"
      ],
      "text/plain": [
       "     [,1]      \n",
       "[1,]  1.2477876\n",
       "[2,]  1.0176991\n",
       "[3,] -0.8849558\n",
       "[4,] -2.2389381"
      ]
     },
     "metadata": {},
     "output_type": "display_data"
    }
   ],
   "source": [
    "parameter"
   ]
  },
  {
   "cell_type": "markdown",
   "id": "b78b1a4f",
   "metadata": {},
   "source": [
    "# Question 3:"
   ]
  },
  {
   "cell_type": "code",
   "execution_count": 40,
   "id": "b8ba8c96",
   "metadata": {},
   "outputs": [
    {
     "data": {
      "text/html": [
       "<table class=\"dataframe\">\n",
       "<caption>A matrix: 4 × 3 of type int</caption>\n",
       "<tbody>\n",
       "\t<tr><td>1</td><td>5</td><td> 9</td></tr>\n",
       "\t<tr><td>2</td><td>6</td><td>10</td></tr>\n",
       "\t<tr><td>3</td><td>7</td><td>11</td></tr>\n",
       "\t<tr><td>4</td><td>8</td><td>12</td></tr>\n",
       "</tbody>\n",
       "</table>\n"
      ],
      "text/latex": [
       "A matrix: 4 × 3 of type int\n",
       "\\begin{tabular}{lll}\n",
       "\t 1 & 5 &  9\\\\\n",
       "\t 2 & 6 & 10\\\\\n",
       "\t 3 & 7 & 11\\\\\n",
       "\t 4 & 8 & 12\\\\\n",
       "\\end{tabular}\n"
      ],
      "text/markdown": [
       "\n",
       "A matrix: 4 × 3 of type int\n",
       "\n",
       "| 1 | 5 |  9 |\n",
       "| 2 | 6 | 10 |\n",
       "| 3 | 7 | 11 |\n",
       "| 4 | 8 | 12 |\n",
       "\n"
      ],
      "text/plain": [
       "     [,1] [,2] [,3]\n",
       "[1,] 1    5     9  \n",
       "[2,] 2    6    10  \n",
       "[3,] 3    7    11  \n",
       "[4,] 4    8    12  "
      ]
     },
     "metadata": {},
     "output_type": "display_data"
    }
   ],
   "source": [
    "a <- matrix(1:12, nrow=4)\n",
    "b <- matrix(1:15, nrow=3)\n",
    "a"
   ]
  },
  {
   "cell_type": "code",
   "execution_count": 41,
   "id": "3cf817ac",
   "metadata": {},
   "outputs": [
    {
     "data": {
      "text/html": [
       "<table class=\"dataframe\">\n",
       "<caption>A matrix: 3 × 5 of type int</caption>\n",
       "<tbody>\n",
       "\t<tr><td>1</td><td>4</td><td>7</td><td>10</td><td>13</td></tr>\n",
       "\t<tr><td>2</td><td>5</td><td>8</td><td>11</td><td>14</td></tr>\n",
       "\t<tr><td>3</td><td>6</td><td>9</td><td>12</td><td>15</td></tr>\n",
       "</tbody>\n",
       "</table>\n"
      ],
      "text/latex": [
       "A matrix: 3 × 5 of type int\n",
       "\\begin{tabular}{lllll}\n",
       "\t 1 & 4 & 7 & 10 & 13\\\\\n",
       "\t 2 & 5 & 8 & 11 & 14\\\\\n",
       "\t 3 & 6 & 9 & 12 & 15\\\\\n",
       "\\end{tabular}\n"
      ],
      "text/markdown": [
       "\n",
       "A matrix: 3 × 5 of type int\n",
       "\n",
       "| 1 | 4 | 7 | 10 | 13 |\n",
       "| 2 | 5 | 8 | 11 | 14 |\n",
       "| 3 | 6 | 9 | 12 | 15 |\n",
       "\n"
      ],
      "text/plain": [
       "     [,1] [,2] [,3] [,4] [,5]\n",
       "[1,] 1    4    7    10   13  \n",
       "[2,] 2    5    8    11   14  \n",
       "[3,] 3    6    9    12   15  "
      ]
     },
     "metadata": {},
     "output_type": "display_data"
    }
   ],
   "source": [
    "b"
   ]
  },
  {
   "cell_type": "code",
   "execution_count": 43,
   "id": "83b0f996",
   "metadata": {},
   "outputs": [],
   "source": [
    "answer <- a %*% b"
   ]
  },
  {
   "cell_type": "code",
   "execution_count": 44,
   "id": "dc692500",
   "metadata": {},
   "outputs": [
    {
     "data": {
      "text/html": [
       "113"
      ],
      "text/latex": [
       "113"
      ],
      "text/markdown": [
       "113"
      ],
      "text/plain": [
       "[1] 113"
      ]
     },
     "metadata": {},
     "output_type": "display_data"
    }
   ],
   "source": [
    "answer[3, 2]"
   ]
  },
  {
   "cell_type": "code",
   "execution_count": 49,
   "id": "d9df4f8b",
   "metadata": {},
   "outputs": [],
   "source": [
    "dot <- function(mat1, mat2){\n",
    "    mat3 <- mat1 * mat2\n",
    "    answer <- 0\n",
    "    for (i in mat3){\n",
    "        answer <- answer + i\n",
    "    }\n",
    "    print(answer)\n",
    "}"
   ]
  },
  {
   "cell_type": "code",
   "execution_count": 51,
   "id": "facbf567",
   "metadata": {},
   "outputs": [
    {
     "name": "stdout",
     "output_type": "stream",
     "text": [
      "[1] 113\n"
     ]
    }
   ],
   "source": [
    "dot(a[3,], t(b[, 2]))"
   ]
  },
  {
   "cell_type": "code",
   "execution_count": null,
   "id": "489ebf46",
   "metadata": {},
   "outputs": [],
   "source": []
  }
 ],
 "metadata": {
  "kernelspec": {
   "display_name": "R",
   "language": "R",
   "name": "ir"
  },
  "language_info": {
   "codemirror_mode": "r",
   "file_extension": ".r",
   "mimetype": "text/x-r-source",
   "name": "R",
   "pygments_lexer": "r",
   "version": "4.1.3"
  }
 },
 "nbformat": 4,
 "nbformat_minor": 5
}
