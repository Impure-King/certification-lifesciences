{
 "cells": [
  {
   "cell_type": "code",
   "execution_count": 1,
   "id": "5569127c",
   "metadata": {},
   "outputs": [
    {
     "name": "stderr",
     "output_type": "stream",
     "text": [
      "Loading required package: MASS\n",
      "\n",
      "Loading required package: HistData\n",
      "\n",
      "Loading required package: Hmisc\n",
      "\n",
      "\n",
      "Attaching package: 'Hmisc'\n",
      "\n",
      "\n",
      "The following objects are masked from 'package:base':\n",
      "\n",
      "    format.pval, units\n",
      "\n",
      "\n"
     ]
    }
   ],
   "source": [
    "library(UsingR)\n",
    "data(\"father.son\", package = \"UsingR\")\n",
    "dat <- father.son"
   ]
  },
  {
   "cell_type": "markdown",
   "id": "7c0204ea",
   "metadata": {},
   "source": [
    "# Sample Average"
   ]
  },
  {
   "cell_type": "code",
   "execution_count": 2,
   "id": "e49bfce4",
   "metadata": {},
   "outputs": [],
   "source": [
    "average <- function(mat){\n",
    "    mat <- mat[,1]\n",
    "    r = nrow(mat)\n",
    "    c = ncol(mat)\n",
    "    n = r + c - 1\n",
    "    ones = cbind(1, n)\n",
    "#     print(ones)\n",
    "#     mat = rbind(mat)\n",
    "#     print(mat)\n",
    "    print((mat %*% ones)/n)\n",
    "}"
   ]
  },
  {
   "cell_type": "code",
   "execution_count": 3,
   "id": "f028486c",
   "metadata": {},
   "outputs": [
    {
     "name": "stdout",
     "output_type": "stream",
     "text": [
      "numeric(0)\n"
     ]
    }
   ],
   "source": [
    "average(dat)"
   ]
  },
  {
   "cell_type": "code",
   "execution_count": 4,
   "id": "16a6677d",
   "metadata": {},
   "outputs": [
    {
     "data": {
      "text/html": [
       "<table class=\"dataframe\">\n",
       "<caption>A matrix: 1 × 1 of type dbl</caption>\n",
       "<tbody>\n",
       "\t<tr><td>4947018</td></tr>\n",
       "</tbody>\n",
       "</table>\n"
      ],
      "text/latex": [
       "A matrix: 1 × 1 of type dbl\n",
       "\\begin{tabular}{l}\n",
       "\t 4947018\\\\\n",
       "\\end{tabular}\n"
      ],
      "text/markdown": [
       "\n",
       "A matrix: 1 × 1 of type dbl\n",
       "\n",
       "| 4947018 |\n",
       "\n"
      ],
      "text/plain": [
       "     [,1]   \n",
       "[1,] 4947018"
      ]
     },
     "metadata": {},
     "output_type": "display_data"
    }
   ],
   "source": [
    "a = dat[,1]\n",
    "t(a) %*% a"
   ]
  },
  {
   "cell_type": "code",
   "execution_count": 17,
   "id": "df79a25b",
   "metadata": {},
   "outputs": [
    {
     "data": {
      "text/html": [
       "<table class=\"dataframe\">\n",
       "<caption>A matrix: 1 × 1 of type dbl</caption>\n",
       "<tbody>\n",
       "\t<tr><td>5015821</td></tr>\n",
       "</tbody>\n",
       "</table>\n"
      ],
      "text/latex": [
       "A matrix: 1 × 1 of type dbl\n",
       "\\begin{tabular}{l}\n",
       "\t 5015821\\\\\n",
       "\\end{tabular}\n"
      ],
      "text/markdown": [
       "\n",
       "A matrix: 1 × 1 of type dbl\n",
       "\n",
       "| 5015821 |\n",
       "\n"
      ],
      "text/plain": [
       "     [,1]   \n",
       "[1,] 5015821"
      ]
     },
     "metadata": {},
     "output_type": "display_data"
    }
   ],
   "source": [
    "crossprod(dat[,0:1])"
   ]
  },
  {
   "cell_type": "code",
   "execution_count": null,
   "id": "db7d8692",
   "metadata": {},
   "outputs": [],
   "source": []
  }
 ],
 "metadata": {
  "kernelspec": {
   "display_name": "R",
   "language": "R",
   "name": "ir"
  },
  "language_info": {
   "codemirror_mode": "r",
   "file_extension": ".r",
   "mimetype": "text/x-r-source",
   "name": "R",
   "pygments_lexer": "r",
   "version": "4.1.3"
  }
 },
 "nbformat": 4,
 "nbformat_minor": 5
}
