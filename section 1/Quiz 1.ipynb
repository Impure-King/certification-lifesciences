{
 "cells": [
  {
   "cell_type": "code",
   "execution_count": 1,
   "id": "09e2334f",
   "metadata": {},
   "outputs": [],
   "source": [
    "trajectory <- function(time, height, init_vel){\n",
    "    d <- height + init_vel * time - 0.5 * 9.8 * time * time\n",
    "    print(d)\n",
    "}"
   ]
  },
  {
   "cell_type": "code",
   "execution_count": 2,
   "id": "dd781ad5",
   "metadata": {},
   "outputs": [
    {
     "name": "stdout",
     "output_type": "stream",
     "text": [
      "[1] 8358\n"
     ]
    }
   ],
   "source": [
    "trajectory(10, 8848, 0)"
   ]
  },
  {
   "cell_type": "code",
   "execution_count": 3,
   "id": "ff745f72",
   "metadata": {},
   "outputs": [
    {
     "data": {
      "text/html": [
       "<style>\n",
       ".list-inline {list-style: none; margin:0; padding: 0}\n",
       ".list-inline>li {display: inline-block}\n",
       ".list-inline>li:not(:last-child)::after {content: \"\\00b7\"; padding: 0 .5ex}\n",
       "</style>\n",
       "<ol class=list-inline><li>2.5</li><li>3.5</li><li>4.5</li><li>5.5</li><li>6.5</li></ol>\n"
      ],
      "text/latex": [
       "\\begin{enumerate*}\n",
       "\\item 2.5\n",
       "\\item 3.5\n",
       "\\item 4.5\n",
       "\\item 5.5\n",
       "\\item 6.5\n",
       "\\end{enumerate*}\n"
      ],
      "text/markdown": [
       "1. 2.5\n",
       "2. 3.5\n",
       "3. 4.5\n",
       "4. 5.5\n",
       "5. 6.5\n",
       "\n",
       "\n"
      ],
      "text/plain": [
       "[1] 2.5 3.5 4.5 5.5 6.5"
      ]
     },
     "metadata": {},
     "output_type": "display_data"
    }
   ],
   "source": [
    "2.5:6.5"
   ]
  },
  {
   "cell_type": "code",
   "execution_count": 4,
   "id": "efe74aa2",
   "metadata": {},
   "outputs": [
    {
     "data": {
      "text/html": [
       "<style>\n",
       ".list-inline {list-style: none; margin:0; padding: 0}\n",
       ".list-inline>li {display: inline-block}\n",
       ".list-inline>li:not(:last-child)::after {content: \"\\00b7\"; padding: 0 .5ex}\n",
       "</style>\n",
       "<ol class=list-inline><li>2.5</li><li>3.5</li><li>4.5</li><li>5.5</li><li>6.5</li></ol>\n"
      ],
      "text/latex": [
       "\\begin{enumerate*}\n",
       "\\item 2.5\n",
       "\\item 3.5\n",
       "\\item 4.5\n",
       "\\item 5.5\n",
       "\\item 6.5\n",
       "\\end{enumerate*}\n"
      ],
      "text/markdown": [
       "1. 2.5\n",
       "2. 3.5\n",
       "3. 4.5\n",
       "4. 5.5\n",
       "5. 6.5\n",
       "\n",
       "\n"
      ],
      "text/plain": [
       "[1] 2.5 3.5 4.5 5.5 6.5"
      ]
     },
     "metadata": {},
     "output_type": "display_data"
    }
   ],
   "source": [
    "seq(2.5, 6.5)"
   ]
  },
  {
   "cell_type": "code",
   "execution_count": 5,
   "id": "90d40d54",
   "metadata": {},
   "outputs": [
    {
     "ename": "ERROR",
     "evalue": "Error in solve.default(matrix(c(2, 1, 6, 3), 2, 2)): Lapack routine dgesv: system is exactly singular: U[2,2] = 0\n",
     "output_type": "error",
     "traceback": [
      "Error in solve.default(matrix(c(2, 1, 6, 3), 2, 2)): Lapack routine dgesv: system is exactly singular: U[2,2] = 0\nTraceback:\n",
      "1. solve(matrix(c(2, 1, 6, 3), 2, 2))",
      "2. solve.default(matrix(c(2, 1, 6, 3), 2, 2))"
     ]
    }
   ],
   "source": [
    "solve(matrix(c(2,1,6,3), 2, 2))"
   ]
  },
  {
   "cell_type": "code",
   "execution_count": 9,
   "id": "133931fb",
   "metadata": {},
   "outputs": [
    {
     "data": {
      "text/html": [
       "<table class=\"dataframe\">\n",
       "<caption>A matrix: 3 × 1 of type dbl</caption>\n",
       "<tbody>\n",
       "\t<tr><td>14.761905</td></tr>\n",
       "\t<tr><td> 1.571429</td></tr>\n",
       "\t<tr><td>-4.380952</td></tr>\n",
       "</tbody>\n",
       "</table>\n"
      ],
      "text/latex": [
       "A matrix: 3 × 1 of type dbl\n",
       "\\begin{tabular}{l}\n",
       "\t 14.761905\\\\\n",
       "\t  1.571429\\\\\n",
       "\t -4.380952\\\\\n",
       "\\end{tabular}\n"
      ],
      "text/markdown": [
       "\n",
       "A matrix: 3 × 1 of type dbl\n",
       "\n",
       "| 14.761905 |\n",
       "|  1.571429 |\n",
       "| -4.380952 |\n",
       "\n"
      ],
      "text/plain": [
       "     [,1]     \n",
       "[1,] 14.761905\n",
       "[2,]  1.571429\n",
       "[3,] -4.380952"
      ]
     },
     "metadata": {},
     "output_type": "display_data"
    }
   ],
   "source": [
    "solve(matrix(c(1, 1, 1, 0, 2, 5, 2, 5, -1), 3, 3), rbind(6, -4, 27))"
   ]
  },
  {
   "cell_type": "code",
   "execution_count": null,
   "id": "d0d56c98",
   "metadata": {},
   "outputs": [],
   "source": []
  }
 ],
 "metadata": {
  "kernelspec": {
   "display_name": "R",
   "language": "R",
   "name": "ir"
  },
  "language_info": {
   "codemirror_mode": "r",
   "file_extension": ".r",
   "mimetype": "text/x-r-source",
   "name": "R",
   "pygments_lexer": "r",
   "version": "4.1.3"
  }
 },
 "nbformat": 4,
 "nbformat_minor": 5
}
