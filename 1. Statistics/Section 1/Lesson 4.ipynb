{
 "cells": [
  {
   "cell_type": "code",
   "execution_count": null,
   "id": "48b24d1a-5bed-4c85-99e7-857057b50265",
   "metadata": {
    "tags": []
   },
   "outputs": [
    {
     "name": "stderr",
     "output_type": "stream",
     "text": [
      "also installing the dependencies ‘sys’, ‘bit’, ‘rematch’, ‘askpass’, ‘bit64’, ‘prettyunits’, ‘lazyeval’, ‘rprojroot’, ‘diffobj’, ‘blob’, ‘DBI’, ‘gargle’, ‘cellranger’, ‘curl’, ‘ids’, ‘rematch2’, ‘openssl’, ‘systemfonts’, ‘textshaping’, ‘clipr’, ‘vroom’, ‘tzdb’, ‘progress’, ‘callr’, ‘selectr’, ‘rex’, ‘Rcpp’, ‘brio’, ‘desc’, ‘pkgload’, ‘praise’, ‘processx’, ‘ps’, ‘waldo’, ‘broom’, ‘conflicted’, ‘dbplyr’, ‘dtplyr’, ‘forcats’, ‘googledrive’, ‘googlesheets4’, ‘haven’, ‘hms’, ‘httr’, ‘modelr’, ‘purrr’, ‘ragg’, ‘readr’, ‘readxl’, ‘reprex’, ‘rvest’, ‘stringr’, ‘tidyr’, ‘xml2’, ‘covr’, ‘feather’, ‘mockr’, ‘rmarkdown’, ‘testthat’\n",
      "\n",
      "\n",
      "Warning message in install.packages(\"tidyverse\", dependencies = TRUE):\n",
      "“installation of package ‘systemfonts’ had non-zero exit status”\n",
      "Warning message in install.packages(\"tidyverse\", dependencies = TRUE):\n",
      "“installation of package ‘stringr’ had non-zero exit status”\n",
      "Warning message in install.packages(\"tidyverse\", dependencies = TRUE):\n",
      "“installation of package ‘textshaping’ had non-zero exit status”\n",
      "Warning message in install.packages(\"tidyverse\", dependencies = TRUE):\n",
      "“installation of package ‘selectr’ had non-zero exit status”\n",
      "Warning message in install.packages(\"tidyverse\", dependencies = TRUE):\n",
      "“installation of package ‘tidyr’ had non-zero exit status”\n",
      "Warning message in install.packages(\"tidyverse\", dependencies = TRUE):\n",
      "“installation of package ‘rmarkdown’ had non-zero exit status”\n"
     ]
    }
   ],
   "source": [
    "install.packages(\"tidyverse\", dependencies=TRUE)"
   ]
  }
 ],
 "metadata": {
  "kernelspec": {
   "display_name": "R",
   "language": "R",
   "name": "ir"
  },
  "language_info": {
   "codemirror_mode": "r",
   "file_extension": ".r",
   "mimetype": "text/x-r-source",
   "name": "R",
   "pygments_lexer": "r",
   "version": "4.2.3"
  }
 },
 "nbformat": 4,
 "nbformat_minor": 5
}
