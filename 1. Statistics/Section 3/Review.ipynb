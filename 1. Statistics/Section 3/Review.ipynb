{
 "cells": [
  {
   "cell_type": "code",
   "execution_count": 1,
   "metadata": {
    "vscode": {
     "languageId": "r"
    }
   },
   "outputs": [
    {
     "name": "stderr",
     "output_type": "stream",
     "text": [
      "\n",
      "Attaching package: ‘dplyr’\n",
      "\n",
      "\n",
      "The following objects are masked from ‘package:stats’:\n",
      "\n",
      "    filter, lag\n",
      "\n",
      "\n",
      "The following objects are masked from ‘package:base’:\n",
      "\n",
      "    intersect, setdiff, setequal, union\n",
      "\n",
      "\n"
     ]
    }
   ],
   "source": [
    "# library(downloader)\n",
    "library(dplyr)\n",
    "# url <- \"https://raw.githubusercontent.com/genomicsclass/dagdata/master/inst/extdata/babies.txt\"\n",
    "filename <- \"./data/babies.txt\"\n",
    "# download(url, destfile=filename)\n",
    "babies <- read.table(filename, header=TRUE)"
   ]
  },
  {
   "cell_type": "code",
   "execution_count": 2,
   "metadata": {
    "vscode": {
     "languageId": "r"
    }
   },
   "outputs": [],
   "source": [
    "bwt.nonsmoke <- filter(babies, smoke==0) %>% select(bwt) %>% unlist \n",
    "bwt.smoke <- filter(babies, smoke==1) %>% select(bwt) %>% unlist"
   ]
  },
  {
   "cell_type": "code",
   "execution_count": 4,
   "metadata": {
    "vscode": {
     "languageId": "r"
    }
   },
   "outputs": [
    {
     "data": {
      "text/html": [
       "8.93766567908935"
      ],
      "text/latex": [
       "8.93766567908935"
      ],
      "text/markdown": [
       "8.93766567908935"
      ],
      "text/plain": [
       "[1] 8.937666"
      ]
     },
     "metadata": {},
     "output_type": "display_data"
    },
    {
     "data": {
      "text/html": [
       "17.3869606414067"
      ],
      "text/latex": [
       "17.3869606414067"
      ],
      "text/markdown": [
       "17.3869606414067"
      ],
      "text/plain": [
       "[1] 17.38696"
      ]
     },
     "metadata": {},
     "output_type": "display_data"
    },
    {
     "data": {
      "text/html": [
       "18.0802387605477"
      ],
      "text/latex": [
       "18.0802387605477"
      ],
      "text/markdown": [
       "18.0802387605477"
      ],
      "text/plain": [
       "[1] 18.08024"
      ]
     },
     "metadata": {},
     "output_type": "display_data"
    }
   ],
   "source": [
    "# Checking the stats:\n",
    "library(rafalib)\n",
    "mean(bwt.nonsmoke)-mean(bwt.smoke)\n",
    "popsd(bwt.nonsmoke)\n",
    "popsd(bwt.smoke)"
   ]
  },
  {
   "cell_type": "code",
   "execution_count": 11,
   "metadata": {
    "vscode": {
     "languageId": "r"
    }
   },
   "outputs": [],
   "source": [
    "set.seed(1)\n",
    "dat.ns <- sample(bwt.nonsmoke, 25)\n",
    "dat.s <- sample(bwt.smoke, 25)\n",
    "se <- sqrt(var(dat.ns)/25 + var(dat.s)/25)\n",
    "tval <- (mean(dat.ns) - mean(dat.s))/se\n",
    "t_val <- abs((mean(dat.s) - mean(dat.ns))/se)"
   ]
  },
  {
   "cell_type": "code",
   "execution_count": 14,
   "metadata": {
    "vscode": {
     "languageId": "r"
    }
   },
   "outputs": [
    {
     "data": {
      "text/html": [
       "1.65932492282552"
      ],
      "text/latex": [
       "1.65932492282552"
      ],
      "text/markdown": [
       "1.65932492282552"
      ],
      "text/plain": [
       "[1] 1.659325"
      ]
     },
     "metadata": {},
     "output_type": "display_data"
    }
   ],
   "source": [
    "tval"
   ]
  },
  {
   "cell_type": "code",
   "execution_count": 13,
   "metadata": {
    "vscode": {
     "languageId": "r"
    }
   },
   "outputs": [
    {
     "data": {
      "text/html": [
       "3.31864984565103"
      ],
      "text/latex": [
       "3.31864984565103"
      ],
      "text/markdown": [
       "3.31864984565103"
      ],
      "text/plain": [
       "[1] 3.31865"
      ]
     },
     "metadata": {},
     "output_type": "display_data"
    }
   ],
   "source": [
    "t_val + tval"
   ]
  },
  {
   "cell_type": "code",
   "execution_count": 15,
   "metadata": {
    "vscode": {
     "languageId": "r"
    }
   },
   "outputs": [],
   "source": [
    "pval <- 1-(pnorm(abs(tval))-pnorm(-abs(tval)))"
   ]
  },
  {
   "cell_type": "code",
   "execution_count": 16,
   "metadata": {
    "vscode": {
     "languageId": "r"
    }
   },
   "outputs": [
    {
     "data": {
      "text/html": [
       "0.0970503357689734"
      ],
      "text/latex": [
       "0.0970503357689734"
      ],
      "text/markdown": [
       "0.0970503357689734"
      ],
      "text/plain": [
       "[1] 0.09705034"
      ]
     },
     "metadata": {},
     "output_type": "display_data"
    }
   ],
   "source": [
    "pval"
   ]
  },
  {
   "cell_type": "code",
   "execution_count": null,
   "metadata": {
    "vscode": {
     "languageId": "r"
    }
   },
   "outputs": [],
   "source": []
  }
 ],
 "metadata": {
  "kernelspec": {
   "display_name": "R",
   "language": "R",
   "name": "ir"
  },
  "language_info": {
   "codemirror_mode": "r",
   "file_extension": ".r",
   "mimetype": "text/x-r-source",
   "name": "R",
   "pygments_lexer": "r",
   "version": "4.2.3"
  },
  "orig_nbformat": 4
 },
 "nbformat": 4,
 "nbformat_minor": 2
}
