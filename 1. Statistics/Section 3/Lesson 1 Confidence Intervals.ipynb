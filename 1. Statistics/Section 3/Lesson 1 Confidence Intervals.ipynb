{
 "cells": [
  {
   "cell_type": "code",
   "execution_count": 1,
   "metadata": {
    "vscode": {
     "languageId": "r"
    }
   },
   "outputs": [],
   "source": [
    "set.seed(1)"
   ]
  },
  {
   "cell_type": "code",
   "execution_count": 2,
   "metadata": {
    "vscode": {
     "languageId": "r"
    }
   },
   "outputs": [
    {
     "name": "stderr",
     "output_type": "stream",
     "text": [
      "\n",
      "Attaching package: ‘dplyr’\n",
      "\n",
      "\n",
      "The following objects are masked from ‘package:stats’:\n",
      "\n",
      "    filter, lag\n",
      "\n",
      "\n",
      "The following objects are masked from ‘package:base’:\n",
      "\n",
      "    intersect, setdiff, setequal, union\n",
      "\n",
      "\n"
     ]
    }
   ],
   "source": [
    "# Loading up the data:\n",
    "library(dplyr)\n",
    "chowPopulation <- read.csv(\"./data/femaleMiceControl.csv\") %>% unlist()"
   ]
  },
  {
   "cell_type": "code",
   "execution_count": 3,
   "metadata": {
    "vscode": {
     "languageId": "r"
    }
   },
   "outputs": [
    {
     "name": "stdout",
     "output_type": "stream",
     "text": [
      "[1] 23.89338\n"
     ]
    }
   ],
   "source": [
    "# Loading the mean:\n",
    "mu_chow <- mean(chowPopulation)\n",
    "print(mu_chow)"
   ]
  },
  {
   "cell_type": "code",
   "execution_count": 4,
   "metadata": {
    "vscode": {
     "languageId": "r"
    }
   },
   "outputs": [
    {
     "name": "stdout",
     "output_type": "stream",
     "text": [
      "[1] 24.03267\n"
     ]
    }
   ],
   "source": [
    "# Getting samples:\n",
    "n <- 30\n",
    "chow <- sample(chowPopulation, n)\n",
    "print(mean(chow))"
   ]
  },
  {
   "cell_type": "code",
   "execution_count": 5,
   "metadata": {
    "vscode": {
     "languageId": "r"
    }
   },
   "outputs": [
    {
     "name": "stdout",
     "output_type": "stream",
     "text": [
      "[1] 0.6875646\n"
     ]
    },
    {
     "data": {
      "text/html": [
       "0.202582992701721"
      ],
      "text/latex": [
       "0.202582992701721"
      ],
      "text/markdown": [
       "0.202582992701721"
      ],
      "text/plain": [
       "[1] 0.202583"
      ]
     },
     "metadata": {},
     "output_type": "display_data"
    },
    {
     "data": {
      "text/html": [
       "0.954499736103642"
      ],
      "text/latex": [
       "0.954499736103642"
      ],
      "text/markdown": [
       "0.954499736103642"
      ],
      "text/plain": [
       "[1] 0.9544997"
      ]
     },
     "metadata": {},
     "output_type": "display_data"
    }
   ],
   "source": [
    "# Calculating the standard error:\n",
    "se <- sd(chow)/sqrt(n)\n",
    "print(se)\n",
    "(mean(chow) - mean(chowPopulation)) / se\n",
    "pnorm(2) - pnorm(-2) # Clearly 95% of the "
   ]
  },
  {
   "cell_type": "code",
   "execution_count": 6,
   "metadata": {
    "vscode": {
     "languageId": "r"
    }
   },
   "outputs": [
    {
     "name": "stdout",
     "output_type": "stream",
     "text": [
      "[1] 1.959964\n",
      "[1] 22.68506 25.38027\n"
     ]
    }
   ],
   "source": [
    "# Creating a Q:\n",
    "Q <- qnorm(1 - 0.05/2)\n",
    "\n",
    "print(Q)\n",
    "\n",
    "interval <- c(mean(chow) - Q * se, mean(chow) + Q * se)\n",
    "\n",
    "print(interval)"
   ]
  },
  {
   "attachments": {},
   "cell_type": "markdown",
   "metadata": {},
   "source": [
    "Since 95% if the time the mean is between -Q and Q, we can find the intervals by multiplying and subtracting."
   ]
  },
  {
   "attachments": {},
   "cell_type": "markdown",
   "metadata": {},
   "source": [
    "If we take the mean and calculate the intervals of the average a lot of times, we will get the confidence intervals that are centered around the true mean."
   ]
  },
  {
   "attachments": {},
   "cell_type": "markdown",
   "metadata": {},
   "source": [
    "## Homework:\n"
   ]
  },
  {
   "cell_type": "code",
   "execution_count": 7,
   "metadata": {
    "vscode": {
     "languageId": "r"
    }
   },
   "outputs": [],
   "source": [
    "# Loading the data:\n",
    "babies <- read.table(\"./data/babies.txt\", header=TRUE)\n",
    "bwt.nonsmoke <- filter(babies, smoke==0) %>% select(bwt) %>% unlist()\n",
    "bwt.smoke <- filter(babies, smoke==1) %>% select(bwt) %>% unlist()"
   ]
  },
  {
   "cell_type": "code",
   "execution_count": 8,
   "metadata": {
    "vscode": {
     "languageId": "r"
    }
   },
   "outputs": [
    {
     "data": {
      "text/html": [
       "8.93766567908935"
      ],
      "text/latex": [
       "8.93766567908935"
      ],
      "text/markdown": [
       "8.93766567908935"
      ],
      "text/plain": [
       "[1] 8.937666"
      ]
     },
     "metadata": {},
     "output_type": "display_data"
    },
    {
     "data": {
      "text/html": [
       "17.3869606414067"
      ],
      "text/latex": [
       "17.3869606414067"
      ],
      "text/markdown": [
       "17.3869606414067"
      ],
      "text/plain": [
       "[1] 17.38696"
      ]
     },
     "metadata": {},
     "output_type": "display_data"
    },
    {
     "data": {
      "text/html": [
       "18.0802387605477"
      ],
      "text/latex": [
       "18.0802387605477"
      ],
      "text/markdown": [
       "18.0802387605477"
      ],
      "text/plain": [
       "[1] 18.08024"
      ]
     },
     "metadata": {},
     "output_type": "display_data"
    }
   ],
   "source": [
    "# Prerequisites:\n",
    "library(rafalib)\n",
    "mean(bwt.nonsmoke) - mean(bwt.smoke)\n",
    "popsd(bwt.nonsmoke)\n",
    "popsd(bwt.smoke)"
   ]
  },
  {
   "cell_type": "code",
   "execution_count": 9,
   "metadata": {
    "vscode": {
     "languageId": "r"
    }
   },
   "outputs": [
    {
     "name": "stdout",
     "output_type": "stream",
     "text": [
      "[1] 125.12\n",
      "[1] 124.08\n"
     ]
    }
   ],
   "source": [
    "# Question 1:\n",
    "set.seed(1)\n",
    "\n",
    "sample_size <- 25\n",
    "dat.ns <- sample(bwt.nonsmoke, 25)\n",
    "dat.s <- sample(bwt.nonsmoke, 25)\n",
    "se <- sd(chow)/sqrt(sample_size)\n",
    "\n",
    "print(mean(dat.ns))\n",
    "print(mean(dat.s))"
   ]
  },
  {
   "cell_type": "code",
   "execution_count": 10,
   "metadata": {
    "vscode": {
     "languageId": "r"
    }
   },
   "outputs": [
    {
     "data": {
      "text/html": [
       "14.6184983739958"
      ],
      "text/latex": [
       "14.6184983739958"
      ],
      "text/markdown": [
       "14.6184983739958"
      ],
      "text/plain": [
       "[1] 14.6185"
      ]
     },
     "metadata": {},
     "output_type": "display_data"
    },
    {
     "data": {
      "text/html": [
       "2.5758293035489"
      ],
      "text/latex": [
       "2.5758293035489"
      ],
      "text/markdown": [
       "2.5758293035489"
      ],
      "text/plain": [
       "[1] 2.575829"
      ]
     },
     "metadata": {},
     "output_type": "display_data"
    }
   ],
   "source": [
    "(mean(dat.ns) - mean(bwt.smoke)) / se\n",
    "Q <- qnorm(1 - 0.01/2)\n",
    "Q"
   ]
  },
  {
   "cell_type": "code",
   "execution_count": 11,
   "metadata": {
    "vscode": {
     "languageId": "r"
    }
   },
   "outputs": [
    {
     "data": {
      "text/html": [
       "0.99"
      ],
      "text/latex": [
       "0.99"
      ],
      "text/markdown": [
       "0.99"
      ],
      "text/plain": [
       "[1] 0.99"
      ]
     },
     "metadata": {},
     "output_type": "display_data"
    }
   ],
   "source": [
    "pnorm(Q) - pnorm(-Q)"
   ]
  },
  {
   "cell_type": "code",
   "execution_count": 12,
   "metadata": {
    "vscode": {
     "languageId": "r"
    }
   },
   "outputs": [],
   "source": [
    "probability <- 0.99  # Example probability\n",
    "degrees_of_freedom <- 23  # Example degrees of freedom\n",
    "\n",
    "critical_value <- qt(probability, df = degrees_of_freedom)"
   ]
  },
  {
   "cell_type": "code",
   "execution_count": 13,
   "metadata": {
    "vscode": {
     "languageId": "r"
    }
   },
   "outputs": [
    {
     "data": {
      "text/html": [
       "2.49986673949467"
      ],
      "text/latex": [
       "2.49986673949467"
      ],
      "text/markdown": [
       "2.49986673949467"
      ],
      "text/plain": [
       "[1] 2.499867"
      ]
     },
     "metadata": {},
     "output_type": "display_data"
    }
   ],
   "source": [
    "critical_value"
   ]
  },
  {
   "cell_type": "code",
   "execution_count": null,
   "metadata": {
    "vscode": {
     "languageId": "r"
    }
   },
   "outputs": [],
   "source": []
  }
 ],
 "metadata": {
  "kernelspec": {
   "display_name": "R",
   "language": "R",
   "name": "ir"
  },
  "language_info": {
   "codemirror_mode": "r",
   "file_extension": ".r",
   "mimetype": "text/x-r-source",
   "name": "R",
   "pygments_lexer": "r",
   "version": "4.2.3"
  },
  "orig_nbformat": 4
 },
 "nbformat": 4,
 "nbformat_minor": 2
}
