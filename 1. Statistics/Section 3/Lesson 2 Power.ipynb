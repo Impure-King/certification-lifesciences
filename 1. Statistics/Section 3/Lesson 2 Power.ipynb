{
 "cells": [
  {
   "cell_type": "code",
   "execution_count": 1,
   "metadata": {
    "vscode": {
     "languageId": "r"
    }
   },
   "outputs": [
    {
     "name": "stderr",
     "output_type": "stream",
     "text": [
      "\n",
      "Attaching package: ‘dplyr’\n",
      "\n",
      "\n",
      "The following objects are masked from ‘package:stats’:\n",
      "\n",
      "    filter, lag\n",
      "\n",
      "\n",
      "The following objects are masked from ‘package:base’:\n",
      "\n",
      "    intersect, setdiff, setequal, union\n",
      "\n",
      "\n"
     ]
    },
    {
     "name": "stdout",
     "output_type": "stream",
     "text": [
      "[1] 8.937666\n",
      "[1] 17.38696\n",
      "[1] 18.08024\n"
     ]
    }
   ],
   "source": [
    "# Loading the data:\n",
    "library(dplyr)\n",
    "babies <- read.table(\"./data/babies.txt\", header=TRUE)\n",
    "bwt.nonsmoke <- filter(babies, smoke==0) %>% select(bwt) %>% unlist()\n",
    "bwt.smoke <- filter(babies, smoke==1) %>% select(bwt) %>% unlist()\n",
    "\n",
    "library(rafalib)\n",
    "print(mean(bwt.nonsmoke) - mean(bwt.smoke))\n",
    "print(popsd(bwt.nonsmoke))\n",
    "print(popsd(bwt.smoke))"
   ]
  },
  {
   "cell_type": "code",
   "execution_count": 3,
   "metadata": {
    "vscode": {
     "languageId": "r"
    }
   },
   "outputs": [
    {
     "name": "stdout",
     "output_type": "stream",
     "text": [
      "[1] 0.096\n"
     ]
    }
   ],
   "source": [
    "set.seed(1)\n",
    "sampling <- function() {\n",
    "    ns.rand_sample <- sample(bwt.nonsmoke, 5)\n",
    "    s.rand_sample <- sample(bwt.smoke, 5)\n",
    "    t.test(s.rand_sample, ns.rand_sample)$p.value < 0.05\n",
    "}\n",
    "print(mean(replicate(10000, sampling())))"
   ]
  },
  {
   "cell_type": "code",
   "execution_count": 4,
   "metadata": {
    "vscode": {
     "languageId": "r"
    }
   },
   "outputs": [
    {
     "data": {
      "text/html": [
       "0.184319490865476"
      ],
      "text/latex": [
       "0.184319490865476"
      ],
      "text/markdown": [
       "0.184319490865476"
      ],
      "text/plain": [
       "[1] 0.1843195"
      ]
     },
     "metadata": {},
     "output_type": "display_data"
    }
   ],
   "source": [
    "set.seed(1)\n",
    "sampling <- function() {\n",
    "    ns.rand_sample <- sample(bwt.nonsmoke, 5)\n",
    "    s.rand_sample <- sample(bwt.smoke, 5)\n",
    "    t.test(s.rand_sample, ns.rand_sample)$p.value\n",
    "}\n",
    "sampling()"
   ]
  },
  {
   "cell_type": "code",
   "execution_count": null,
   "metadata": {
    "vscode": {
     "languageId": "r"
    }
   },
   "outputs": [],
   "source": []
  }
 ],
 "metadata": {
  "kernelspec": {
   "display_name": "R",
   "language": "R",
   "name": "ir"
  },
  "language_info": {
   "codemirror_mode": "r",
   "file_extension": ".r",
   "mimetype": "text/x-r-source",
   "name": "R",
   "pygments_lexer": "r",
   "version": "4.2.3"
  },
  "orig_nbformat": 4
 },
 "nbformat": 4,
 "nbformat_minor": 2
}
