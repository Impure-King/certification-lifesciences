{
 "cells": [
  {
   "cell_type": "code",
   "execution_count": 1,
   "id": "34f5cf71-d3b7-4ad9-97a6-70af1fb7b0c0",
   "metadata": {
    "tags": []
   },
   "outputs": [],
   "source": [
    "# R is a bit more native, so no imports needed."
   ]
  },
  {
   "cell_type": "code",
   "execution_count": 2,
   "id": "56e7a307-9401-4983-acab-1f70038e505f",
   "metadata": {
    "tags": []
   },
   "outputs": [],
   "source": [
    "seq(1, 10) -> time # Mathematically, [1, 10]\n",
    "2 * time + 10 -> distance"
   ]
  },
  {
   "cell_type": "code",
   "execution_count": 3,
   "id": "fa18829d-dc25-43c8-936f-675b9aeecd05",
   "metadata": {
    "tags": []
   },
   "outputs": [
    {
     "data": {
      "image/png": "[encoded data removed]",
      "text/plain": [
       "plot without title"
      ]
     },
     "metadata": {
      "image/png": {
       "height": 420,
       "width": 420
      }
     },
     "output_type": "display_data"
    }
   ],
   "source": [
    "plot(time, distance, type='l', xlab=\"time\", ylab=\"distance\", col = \"blue\")"
   ]
  },
  {
   "cell_type": "markdown",
   "id": "7d0ef5a2-f856-4f8d-b3a3-259fcae84c20",
   "metadata": {},
   "source": [
    "# Normal Equation:"
   ]
  },
  {
   "cell_type": "code",
   "execution_count": 4,
   "id": "bd18725a-bdeb-47c6-a7ef-498a4e58ae7f",
   "metadata": {
    "tags": []
   },
   "outputs": [],
   "source": [
    "g <- 9.8\n",
    "n <- 25\n",
    "h0 <- 100\n",
    "time <- seq(1, 11, len=n)\n",
    "u <- 0\n",
    "S <- h0 + u * time - g * time^2/2\n",
    "distorted_S = S + rnorm(n, sd = 3)"
   ]
  },
  {
   "cell_type": "code",
   "execution_count": 5,
   "id": "1aa01fdd-56d4-4082-96a7-753622755983",
   "metadata": {
    "tags": []
   },
   "outputs": [],
   "source": [
    "minimize_residuals <- function(Y){\n",
    "    time <- seq(1, 11, len=n)\n",
    "    X <- cbind(1, time, time^2)\n",
    "    A <- solve(crossprod(X)) %*% crossprod(X, Y)\n",
    "    return(A)\n",
    "}\n",
    "compute_G <- function(A){\n",
    "    return(A[3] * -2)\n",
    "}\n",
    "full_compute <- function(Y){\n",
    "    A = minimize_residuals(Y)\n",
    "    return(compute_G(A))\n",
    "}"
   ]
  },
  {
   "cell_type": "code",
   "execution_count": 6,
   "id": "53538739-d4a3-4e10-989f-d802b33f9e7c",
   "metadata": {
    "tags": []
   },
   "outputs": [
    {
     "data": {
      "text/html": [
       "9.8"
      ],
      "text/latex": [
       "9.8"
      ],
      "text/markdown": [
       "9.8"
      ],
      "text/plain": [
       "[1] 9.8"
      ]
     },
     "metadata": {},
     "output_type": "display_data"
    }
   ],
   "source": [
    "full_compute(S)"
   ]
  },
  {
   "cell_type": "code",
   "execution_count": 7,
   "id": "b8eadbf2-35e3-4162-8a91-cfd9e28ac93d",
   "metadata": {
    "tags": []
   },
   "outputs": [
    {
     "data": {
      "text/html": [
       "9.71469835386251"
      ],
      "text/latex": [
       "9.71469835386251"
      ],
      "text/markdown": [
       "9.71469835386251"
      ],
      "text/plain": [
       "[1] 9.714698"
      ]
     },
     "metadata": {},
     "output_type": "display_data"
    }
   ],
   "source": [
    "full_compute(distorted_S)"
   ]
  },
  {
   "cell_type": "code",
   "execution_count": 8,
   "id": "f0f0852a-a0a9-47f2-9b49-4ee47dc947d1",
   "metadata": {
    "tags": []
   },
   "outputs": [
    {
     "data": {
      "image/png": "[encoded data removed]",
      "text/plain": [
       "plot without title"
      ]
     },
     "metadata": {
      "image/png": {
       "height": 420,
       "width": 420
      }
     },
     "output_type": "display_data"
    }
   ],
   "source": [
    "plot(time, S, ylab=\"Height\", col=\"red\")\n",
    "lines(time, cbind(1, time, time^2) %*% minimize_residuals(S), type='l', col = \"green\")"
   ]
  }
 ],
 "metadata": {
  "kernelspec": {
   "display_name": "R",
   "language": "R",
   "name": "ir"
  },
  "language_info": {
   "codemirror_mode": "r",
   "file_extension": ".r",
   "mimetype": "text/x-r-source",
   "name": "R",
   "pygments_lexer": "r",
   "version": "4.1.3"
  }
 },
 "nbformat": 4,
 "nbformat_minor": 5
}
