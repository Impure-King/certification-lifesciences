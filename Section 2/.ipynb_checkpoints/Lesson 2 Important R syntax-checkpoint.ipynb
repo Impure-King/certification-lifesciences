{
 "cells": [
  {
   "cell_type": "markdown",
   "id": "aff6963e",
   "metadata": {},
   "source": [
    "# Generating the data:"
   ]
  },
  {
   "cell_type": "code",
   "execution_count": 1,
   "id": "44127be0",
   "metadata": {},
   "outputs": [],
   "source": [
    "# You can define the number of elements as well as step with seq:\n",
    "g <- -9.81\n",
    "n <- 25\n",
    "time <- seq(0, 3.4, len=n)\n",
    "init_velocity <- 0\n",
    "heights <- 100 + init_velocity * time + (g * time^2)/2"
   ]
  },
  {
   "cell_type": "markdown",
   "id": "30597b2f",
   "metadata": {},
   "source": [
    "# Plotting"
   ]
  },
  {
   "cell_type": "code",
   "execution_count": 2,
   "id": "3ce52c71",
   "metadata": {},
   "outputs": [
    {
     "data": {
      "image/png": "[encoded data removed]",
      "text/plain": [
       "plot without title"
      ]
     },
     "metadata": {
      "image/png": {
       "height": 420,
       "width": 420
      }
     },
     "output_type": "display_data"
    }
   ],
   "source": [
    "plot(time, heights, xlab=\"time (s)\", ylab=\"height (m)\")"
   ]
  },
  {
   "cell_type": "markdown",
   "id": "ba235ca0",
   "metadata": {},
   "source": [
    "# Creating the residual sums:"
   ]
  },
  {
   "cell_type": "code",
   "execution_count": 3,
   "id": "e8d2bc3c",
   "metadata": {},
   "outputs": [],
   "source": [
    "rss <- function(beta0, beta1, beta2, heights, time){\n",
    "    residual <- heights - (beta0 + beta1 * time + beta2 * time^2)\n",
    "    \n",
    "    # Sum adds all the elements of a vector:\n",
    "    return(sum(residual^2))\n",
    "}"
   ]
  },
  {
   "cell_type": "code",
   "execution_count": 4,
   "id": "08800667",
   "metadata": {
    "scrolled": true
   },
   "outputs": [
    {
     "data": {
      "text/html": [
       "143181.726940114"
      ],
      "text/latex": [
       "143181.726940114"
      ],
      "text/markdown": [
       "143181.726940114"
      ],
      "text/plain": [
       "[1] 143181.7"
      ]
     },
     "metadata": {},
     "output_type": "display_data"
    }
   ],
   "source": [
    "rss(0, 1, 2, heights, time)"
   ]
  },
  {
   "cell_type": "markdown",
   "id": "47be2859",
   "metadata": {},
   "source": [
    "Minimizing the Residual sum of Square:"
   ]
  },
  {
   "cell_type": "code",
   "execution_count": 5,
   "id": "4020a96f",
   "metadata": {},
   "outputs": [],
   "source": [
    "minimized <- function(x, y){\n",
    "    solve(crossprod(x)) %*% crossprod(x, y) # solve gives the inverse.\n",
    "}\n",
    "# crossprod(x, y) = t(x) %*% y, but more stable"
   ]
  },
  {
   "cell_type": "code",
   "execution_count": 6,
   "id": "19b73977",
   "metadata": {},
   "outputs": [],
   "source": [
    "x <- cbind(1, time, time^2)"
   ]
  },
  {
   "cell_type": "code",
   "execution_count": 7,
   "id": "8e32bc7f",
   "metadata": {},
   "outputs": [],
   "source": [
    "b <- minimized(x, heights)"
   ]
  },
  {
   "cell_type": "code",
   "execution_count": 8,
   "id": "1665ac1f",
   "metadata": {},
   "outputs": [
    {
     "data": {
      "text/html": [
       "25"
      ],
      "text/latex": [
       "25"
      ],
      "text/markdown": [
       "25"
      ],
      "text/plain": [
       "[1] 25"
      ]
     },
     "metadata": {},
     "output_type": "display_data"
    }
   ],
   "source": [
    "length(time) # gives the actual length."
   ]
  },
  {
   "cell_type": "code",
   "execution_count": null,
   "id": "83879c9a",
   "metadata": {},
   "outputs": [],
   "source": []
  },
  {
   "cell_type": "code",
   "execution_count": 9,
   "id": "65ed5dd4",
   "metadata": {},
   "outputs": [
    {
     "data": {
      "text/html": [
       "<style>\n",
       ".list-inline {list-style: none; margin:0; padding: 0}\n",
       ".list-inline>li {display: inline-block}\n",
       ".list-inline>li:not(:last-child)::after {content: \"\\00b7\"; padding: 0 .5ex}\n",
       "</style>\n",
       "<ol class=list-inline><li>100</li><li>99.901559375</li><li>99.6062375</li><li>99.114034375</li><li>98.42495</li><li>97.538984375</li><li>96.4561375</li><li>95.176409375</li><li>93.6998</li><li>92.026309375</li><li>90.1559375</li><li>88.088684375</li><li>85.82455</li><li>83.363534375</li><li>80.7056375</li><li>77.850859375</li><li>74.7992</li><li>71.550659375</li><li>68.1052375</li><li>64.462934375</li><li>60.62375</li><li>56.587684375</li><li>52.3547375</li><li>47.924909375</li><li>43.2982</li></ol>\n"
      ],
      "text/latex": [
       "\\begin{enumerate*}\n",
       "\\item 100\n",
       "\\item 99.901559375\n",
       "\\item 99.6062375\n",
       "\\item 99.114034375\n",
       "\\item 98.42495\n",
       "\\item 97.538984375\n",
       "\\item 96.4561375\n",
       "\\item 95.176409375\n",
       "\\item 93.6998\n",
       "\\item 92.026309375\n",
       "\\item 90.1559375\n",
       "\\item 88.088684375\n",
       "\\item 85.82455\n",
       "\\item 83.363534375\n",
       "\\item 80.7056375\n",
       "\\item 77.850859375\n",
       "\\item 74.7992\n",
       "\\item 71.550659375\n",
       "\\item 68.1052375\n",
       "\\item 64.462934375\n",
       "\\item 60.62375\n",
       "\\item 56.587684375\n",
       "\\item 52.3547375\n",
       "\\item 47.924909375\n",
       "\\item 43.2982\n",
       "\\end{enumerate*}\n"
      ],
      "text/markdown": [
       "1. 100\n",
       "2. 99.901559375\n",
       "3. 99.6062375\n",
       "4. 99.114034375\n",
       "5. 98.42495\n",
       "6. 97.538984375\n",
       "7. 96.4561375\n",
       "8. 95.176409375\n",
       "9. 93.6998\n",
       "10. 92.026309375\n",
       "11. 90.1559375\n",
       "12. 88.088684375\n",
       "13. 85.82455\n",
       "14. 83.363534375\n",
       "15. 80.7056375\n",
       "16. 77.850859375\n",
       "17. 74.7992\n",
       "18. 71.550659375\n",
       "19. 68.1052375\n",
       "20. 64.462934375\n",
       "21. 60.62375\n",
       "22. 56.587684375\n",
       "23. 52.3547375\n",
       "24. 47.924909375\n",
       "25. 43.2982\n",
       "\n",
       "\n"
      ],
      "text/plain": [
       " [1] 100.00000  99.90156  99.60624  99.11403  98.42495  97.53898  96.45614\n",
       " [8]  95.17641  93.69980  92.02631  90.15594  88.08868  85.82455  83.36353\n",
       "[15]  80.70564  77.85086  74.79920  71.55066  68.10524  64.46293  60.62375\n",
       "[22]  56.58768  52.35474  47.92491  43.29820"
      ]
     },
     "metadata": {},
     "output_type": "display_data"
    }
   ],
   "source": [
    "heights"
   ]
  },
  {
   "cell_type": "code",
   "execution_count": null,
   "id": "1f63c482",
   "metadata": {},
   "outputs": [],
   "source": []
  }
 ],
 "metadata": {
  "kernelspec": {
   "display_name": "R",
   "language": "R",
   "name": "ir"
  },
  "language_info": {
   "codemirror_mode": "r",
   "file_extension": ".r",
   "mimetype": "text/x-r-source",
   "name": "R",
   "pygments_lexer": "r",
   "version": "4.1.3"
  }
 },
 "nbformat": 4,
 "nbformat_minor": 5
}
