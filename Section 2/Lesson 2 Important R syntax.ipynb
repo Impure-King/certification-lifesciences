{
 "cells": [
  {
   "cell_type": "markdown",
   "id": "2f8736e8",
   "metadata": {},
   "source": [
    "# Generating the data:"
   ]
  },
  {
   "cell_type": "code",
   "execution_count": 1,
   "id": "74ff8fa3",
   "metadata": {},
   "outputs": [],
   "source": [
    "# You can define the number of elements as well as step with seq:\n",
    "g <- -9.81\n",
    "n <- 25\n",
    "time <- seq(0, 3.4, len=n)\n",
    "init_velocity <- 0\n",
    "heights <- 100 + init_velocity * time + (g * time^2)/2"
   ]
  },
  {
   "cell_type": "markdown",
   "id": "1022b8cd",
   "metadata": {},
   "source": [
    "# Plotting"
   ]
  },
  {
   "cell_type": "code",
   "execution_count": 2,
   "id": "7d30b935",
   "metadata": {},
   "outputs": [
    {
     "data": {
      "image/png": "[encoded data removed]",
      "text/plain": [
       "plot without title"
      ]
     },
     "metadata": {
      "image/png": {
       "height": 420,
       "width": 420
      }
     },
     "output_type": "display_data"
    }
   ],
   "source": [
    "plot(time, heights, xlab=\"time (s)\", ylab=\"height (m)\")"
   ]
  },
  {
   "cell_type": "markdown",
   "id": "43def2e0",
   "metadata": {},
   "source": [
    "# Creating the residual sums:"
   ]
  },
  {
   "cell_type": "code",
   "execution_count": 3,
   "id": "c73ebfe1",
   "metadata": {},
   "outputs": [],
   "source": [
    "rss <- function(beta0, beta1, beta2, heights, time){\n",
    "    residual <- heights - (beta0 + beta1 * time + beta2 * time^2)\n",
    "    \n",
    "    # Sum adds all the elements of a vector:\n",
    "    return(sum(residual^2))\n",
    "}"
   ]
  },
  {
   "cell_type": "code",
   "execution_count": 4,
   "id": "8f985d91",
   "metadata": {
    "scrolled": true
   },
   "outputs": [
    {
     "data": {
      "text/html": [
       "143181.726940114"
      ],
      "text/latex": [
       "143181.726940114"
      ],
      "text/markdown": [
       "143181.726940114"
      ],
      "text/plain": [
       "[1] 143181.7"
      ]
     },
     "metadata": {},
     "output_type": "display_data"
    }
   ],
   "source": [
    "rss(0, 1, 2, heights, time)"
   ]
  },
  {
   "cell_type": "markdown",
   "id": "aaa74e91",
   "metadata": {},
   "source": [
    "Minimizing the Residual sum of Square:"
   ]
  },
  {
   "cell_type": "code",
   "execution_count": 5,
   "id": "4b31ca69",
   "metadata": {},
   "outputs": [],
   "source": [
    "minimized <- function(x, y){\n",
    "    solve(crossprod(x)) %*% crossprod(x, y) # solve gives the inverse.\n",
    "}\n",
    "# crossprod(x, y) = t(x) %*% y, but more stable"
   ]
  },
  {
   "cell_type": "code",
   "execution_count": 6,
   "id": "e74b83e6",
   "metadata": {},
   "outputs": [],
   "source": [
    "x <- cbind(1, time, time^2)"
   ]
  },
  {
   "cell_type": "code",
   "execution_count": 7,
   "id": "14d8eeae",
   "metadata": {},
   "outputs": [],
   "source": [
    "b <- minimized(x, heights)"
   ]
  },
  {
   "cell_type": "code",
   "execution_count": 8,
   "id": "5fe64014",
   "metadata": {},
   "outputs": [
    {
     "data": {
      "text/html": [
       "25"
      ],
      "text/latex": [
       "25"
      ],
      "text/markdown": [
       "25"
      ],
      "text/plain": [
       "[1] 25"
      ]
     },
     "metadata": {},
     "output_type": "display_data"
    }
   ],
   "source": [
    "length(time) # gives the actual length."
   ]
  },
  {
   "cell_type": "code",
   "execution_count": 9,
   "id": "f26a0460",
   "metadata": {},
   "outputs": [
    {
     "data": {
      "text/html": [
       "<table class=\"dataframe\">\n",
       "<caption>A matrix: 25 × 3 of type dbl</caption>\n",
       "<thead>\n",
       "\t<tr><th scope=col></th><th scope=col>time</th><th scope=col></th></tr>\n",
       "</thead>\n",
       "<tbody>\n",
       "\t<tr><td>1</td><td>0.0000000</td><td> 0.00000000</td></tr>\n",
       "\t<tr><td>1</td><td>0.1416667</td><td> 0.02006944</td></tr>\n",
       "\t<tr><td>1</td><td>0.2833333</td><td> 0.08027778</td></tr>\n",
       "\t<tr><td>1</td><td>0.4250000</td><td> 0.18062500</td></tr>\n",
       "\t<tr><td>1</td><td>0.5666667</td><td> 0.32111111</td></tr>\n",
       "\t<tr><td>1</td><td>0.7083333</td><td> 0.50173611</td></tr>\n",
       "\t<tr><td>1</td><td>0.8500000</td><td> 0.72250000</td></tr>\n",
       "\t<tr><td>1</td><td>0.9916667</td><td> 0.98340278</td></tr>\n",
       "\t<tr><td>1</td><td>1.1333333</td><td> 1.28444444</td></tr>\n",
       "\t<tr><td>1</td><td>1.2750000</td><td> 1.62562500</td></tr>\n",
       "\t<tr><td>1</td><td>1.4166667</td><td> 2.00694444</td></tr>\n",
       "\t<tr><td>1</td><td>1.5583333</td><td> 2.42840278</td></tr>\n",
       "\t<tr><td>1</td><td>1.7000000</td><td> 2.89000000</td></tr>\n",
       "\t<tr><td>1</td><td>1.8416667</td><td> 3.39173611</td></tr>\n",
       "\t<tr><td>1</td><td>1.9833333</td><td> 3.93361111</td></tr>\n",
       "\t<tr><td>1</td><td>2.1250000</td><td> 4.51562500</td></tr>\n",
       "\t<tr><td>1</td><td>2.2666667</td><td> 5.13777778</td></tr>\n",
       "\t<tr><td>1</td><td>2.4083333</td><td> 5.80006944</td></tr>\n",
       "\t<tr><td>1</td><td>2.5500000</td><td> 6.50250000</td></tr>\n",
       "\t<tr><td>1</td><td>2.6916667</td><td> 7.24506944</td></tr>\n",
       "\t<tr><td>1</td><td>2.8333333</td><td> 8.02777778</td></tr>\n",
       "\t<tr><td>1</td><td>2.9750000</td><td> 8.85062500</td></tr>\n",
       "\t<tr><td>1</td><td>3.1166667</td><td> 9.71361111</td></tr>\n",
       "\t<tr><td>1</td><td>3.2583333</td><td>10.61673611</td></tr>\n",
       "\t<tr><td>1</td><td>3.4000000</td><td>11.56000000</td></tr>\n",
       "</tbody>\n",
       "</table>\n"
      ],
      "text/latex": [
       "A matrix: 25 × 3 of type dbl\n",
       "\\begin{tabular}{lll}\n",
       "  & time & \\\\\n",
       "\\hline\n",
       "\t 1 & 0.0000000 &  0.00000000\\\\\n",
       "\t 1 & 0.1416667 &  0.02006944\\\\\n",
       "\t 1 & 0.2833333 &  0.08027778\\\\\n",
       "\t 1 & 0.4250000 &  0.18062500\\\\\n",
       "\t 1 & 0.5666667 &  0.32111111\\\\\n",
       "\t 1 & 0.7083333 &  0.50173611\\\\\n",
       "\t 1 & 0.8500000 &  0.72250000\\\\\n",
       "\t 1 & 0.9916667 &  0.98340278\\\\\n",
       "\t 1 & 1.1333333 &  1.28444444\\\\\n",
       "\t 1 & 1.2750000 &  1.62562500\\\\\n",
       "\t 1 & 1.4166667 &  2.00694444\\\\\n",
       "\t 1 & 1.5583333 &  2.42840278\\\\\n",
       "\t 1 & 1.7000000 &  2.89000000\\\\\n",
       "\t 1 & 1.8416667 &  3.39173611\\\\\n",
       "\t 1 & 1.9833333 &  3.93361111\\\\\n",
       "\t 1 & 2.1250000 &  4.51562500\\\\\n",
       "\t 1 & 2.2666667 &  5.13777778\\\\\n",
       "\t 1 & 2.4083333 &  5.80006944\\\\\n",
       "\t 1 & 2.5500000 &  6.50250000\\\\\n",
       "\t 1 & 2.6916667 &  7.24506944\\\\\n",
       "\t 1 & 2.8333333 &  8.02777778\\\\\n",
       "\t 1 & 2.9750000 &  8.85062500\\\\\n",
       "\t 1 & 3.1166667 &  9.71361111\\\\\n",
       "\t 1 & 3.2583333 & 10.61673611\\\\\n",
       "\t 1 & 3.4000000 & 11.56000000\\\\\n",
       "\\end{tabular}\n"
      ],
      "text/markdown": [
       "\n",
       "A matrix: 25 × 3 of type dbl\n",
       "\n",
       "| <!----> | time | <!----> |\n",
       "|---|---|---|\n",
       "| 1 | 0.0000000 |  0.00000000 |\n",
       "| 1 | 0.1416667 |  0.02006944 |\n",
       "| 1 | 0.2833333 |  0.08027778 |\n",
       "| 1 | 0.4250000 |  0.18062500 |\n",
       "| 1 | 0.5666667 |  0.32111111 |\n",
       "| 1 | 0.7083333 |  0.50173611 |\n",
       "| 1 | 0.8500000 |  0.72250000 |\n",
       "| 1 | 0.9916667 |  0.98340278 |\n",
       "| 1 | 1.1333333 |  1.28444444 |\n",
       "| 1 | 1.2750000 |  1.62562500 |\n",
       "| 1 | 1.4166667 |  2.00694444 |\n",
       "| 1 | 1.5583333 |  2.42840278 |\n",
       "| 1 | 1.7000000 |  2.89000000 |\n",
       "| 1 | 1.8416667 |  3.39173611 |\n",
       "| 1 | 1.9833333 |  3.93361111 |\n",
       "| 1 | 2.1250000 |  4.51562500 |\n",
       "| 1 | 2.2666667 |  5.13777778 |\n",
       "| 1 | 2.4083333 |  5.80006944 |\n",
       "| 1 | 2.5500000 |  6.50250000 |\n",
       "| 1 | 2.6916667 |  7.24506944 |\n",
       "| 1 | 2.8333333 |  8.02777778 |\n",
       "| 1 | 2.9750000 |  8.85062500 |\n",
       "| 1 | 3.1166667 |  9.71361111 |\n",
       "| 1 | 3.2583333 | 10.61673611 |\n",
       "| 1 | 3.4000000 | 11.56000000 |\n",
       "\n"
      ],
      "text/plain": [
       "        time                 \n",
       " [1,] 1 0.0000000  0.00000000\n",
       " [2,] 1 0.1416667  0.02006944\n",
       " [3,] 1 0.2833333  0.08027778\n",
       " [4,] 1 0.4250000  0.18062500\n",
       " [5,] 1 0.5666667  0.32111111\n",
       " [6,] 1 0.7083333  0.50173611\n",
       " [7,] 1 0.8500000  0.72250000\n",
       " [8,] 1 0.9916667  0.98340278\n",
       " [9,] 1 1.1333333  1.28444444\n",
       "[10,] 1 1.2750000  1.62562500\n",
       "[11,] 1 1.4166667  2.00694444\n",
       "[12,] 1 1.5583333  2.42840278\n",
       "[13,] 1 1.7000000  2.89000000\n",
       "[14,] 1 1.8416667  3.39173611\n",
       "[15,] 1 1.9833333  3.93361111\n",
       "[16,] 1 2.1250000  4.51562500\n",
       "[17,] 1 2.2666667  5.13777778\n",
       "[18,] 1 2.4083333  5.80006944\n",
       "[19,] 1 2.5500000  6.50250000\n",
       "[20,] 1 2.6916667  7.24506944\n",
       "[21,] 1 2.8333333  8.02777778\n",
       "[22,] 1 2.9750000  8.85062500\n",
       "[23,] 1 3.1166667  9.71361111\n",
       "[24,] 1 3.2583333 10.61673611\n",
       "[25,] 1 3.4000000 11.56000000"
      ]
     },
     "metadata": {},
     "output_type": "display_data"
    }
   ],
   "source": [
    "x"
   ]
  },
  {
   "cell_type": "code",
   "execution_count": 10,
   "id": "49f532ba",
   "metadata": {},
   "outputs": [
    {
     "data": {
      "text/html": [
       "<table class=\"dataframe\">\n",
       "<caption>A matrix: 3 × 1 of type dbl</caption>\n",
       "<tbody>\n",
       "\t<tr><th scope=row></th><td> 1.000000e+02</td></tr>\n",
       "\t<tr><th scope=row>time</th><td> 3.244735e-13</td></tr>\n",
       "\t<tr><th scope=row></th><td>-4.905000e+00</td></tr>\n",
       "</tbody>\n",
       "</table>\n"
      ],
      "text/latex": [
       "A matrix: 3 × 1 of type dbl\n",
       "\\begin{tabular}{r|l}\n",
       "\t &  1.000000e+02\\\\\n",
       "\ttime &  3.244735e-13\\\\\n",
       "\t & -4.905000e+00\\\\\n",
       "\\end{tabular}\n"
      ],
      "text/markdown": [
       "\n",
       "A matrix: 3 × 1 of type dbl\n",
       "\n",
       "| <!----> |  1.000000e+02 |\n",
       "| time |  3.244735e-13 |\n",
       "| <!----> | -4.905000e+00 |\n",
       "\n"
      ],
      "text/plain": [
       "     [,1]         \n",
       "      1.000000e+02\n",
       "time  3.244735e-13\n",
       "     -4.905000e+00"
      ]
     },
     "metadata": {},
     "output_type": "display_data"
    }
   ],
   "source": [
    "b"
   ]
  },
  {
   "cell_type": "code",
   "execution_count": 11,
   "id": "863929e2",
   "metadata": {},
   "outputs": [
    {
     "data": {
      "text/html": [
       "<table class=\"dataframe\">\n",
       "<caption>A matrix: 25 × 1 of type dbl</caption>\n",
       "<tbody>\n",
       "\t<tr><td>100.00000</td></tr>\n",
       "\t<tr><td> 99.90156</td></tr>\n",
       "\t<tr><td> 99.60624</td></tr>\n",
       "\t<tr><td> 99.11403</td></tr>\n",
       "\t<tr><td> 98.42495</td></tr>\n",
       "\t<tr><td> 97.53898</td></tr>\n",
       "\t<tr><td> 96.45614</td></tr>\n",
       "\t<tr><td> 95.17641</td></tr>\n",
       "\t<tr><td> 93.69980</td></tr>\n",
       "\t<tr><td> 92.02631</td></tr>\n",
       "\t<tr><td> 90.15594</td></tr>\n",
       "\t<tr><td> 88.08868</td></tr>\n",
       "\t<tr><td> 85.82455</td></tr>\n",
       "\t<tr><td> 83.36353</td></tr>\n",
       "\t<tr><td> 80.70564</td></tr>\n",
       "\t<tr><td> 77.85086</td></tr>\n",
       "\t<tr><td> 74.79920</td></tr>\n",
       "\t<tr><td> 71.55066</td></tr>\n",
       "\t<tr><td> 68.10524</td></tr>\n",
       "\t<tr><td> 64.46293</td></tr>\n",
       "\t<tr><td> 60.62375</td></tr>\n",
       "\t<tr><td> 56.58768</td></tr>\n",
       "\t<tr><td> 52.35474</td></tr>\n",
       "\t<tr><td> 47.92491</td></tr>\n",
       "\t<tr><td> 43.29820</td></tr>\n",
       "</tbody>\n",
       "</table>\n"
      ],
      "text/latex": [
       "A matrix: 25 × 1 of type dbl\n",
       "\\begin{tabular}{l}\n",
       "\t 100.00000\\\\\n",
       "\t  99.90156\\\\\n",
       "\t  99.60624\\\\\n",
       "\t  99.11403\\\\\n",
       "\t  98.42495\\\\\n",
       "\t  97.53898\\\\\n",
       "\t  96.45614\\\\\n",
       "\t  95.17641\\\\\n",
       "\t  93.69980\\\\\n",
       "\t  92.02631\\\\\n",
       "\t  90.15594\\\\\n",
       "\t  88.08868\\\\\n",
       "\t  85.82455\\\\\n",
       "\t  83.36353\\\\\n",
       "\t  80.70564\\\\\n",
       "\t  77.85086\\\\\n",
       "\t  74.79920\\\\\n",
       "\t  71.55066\\\\\n",
       "\t  68.10524\\\\\n",
       "\t  64.46293\\\\\n",
       "\t  60.62375\\\\\n",
       "\t  56.58768\\\\\n",
       "\t  52.35474\\\\\n",
       "\t  47.92491\\\\\n",
       "\t  43.29820\\\\\n",
       "\\end{tabular}\n"
      ],
      "text/markdown": [
       "\n",
       "A matrix: 25 × 1 of type dbl\n",
       "\n",
       "| 100.00000 |\n",
       "|  99.90156 |\n",
       "|  99.60624 |\n",
       "|  99.11403 |\n",
       "|  98.42495 |\n",
       "|  97.53898 |\n",
       "|  96.45614 |\n",
       "|  95.17641 |\n",
       "|  93.69980 |\n",
       "|  92.02631 |\n",
       "|  90.15594 |\n",
       "|  88.08868 |\n",
       "|  85.82455 |\n",
       "|  83.36353 |\n",
       "|  80.70564 |\n",
       "|  77.85086 |\n",
       "|  74.79920 |\n",
       "|  71.55066 |\n",
       "|  68.10524 |\n",
       "|  64.46293 |\n",
       "|  60.62375 |\n",
       "|  56.58768 |\n",
       "|  52.35474 |\n",
       "|  47.92491 |\n",
       "|  43.29820 |\n",
       "\n"
      ],
      "text/plain": [
       "      [,1]     \n",
       " [1,] 100.00000\n",
       " [2,]  99.90156\n",
       " [3,]  99.60624\n",
       " [4,]  99.11403\n",
       " [5,]  98.42495\n",
       " [6,]  97.53898\n",
       " [7,]  96.45614\n",
       " [8,]  95.17641\n",
       " [9,]  93.69980\n",
       "[10,]  92.02631\n",
       "[11,]  90.15594\n",
       "[12,]  88.08868\n",
       "[13,]  85.82455\n",
       "[14,]  83.36353\n",
       "[15,]  80.70564\n",
       "[16,]  77.85086\n",
       "[17,]  74.79920\n",
       "[18,]  71.55066\n",
       "[19,]  68.10524\n",
       "[20,]  64.46293\n",
       "[21,]  60.62375\n",
       "[22,]  56.58768\n",
       "[23,]  52.35474\n",
       "[24,]  47.92491\n",
       "[25,]  43.29820"
      ]
     },
     "metadata": {},
     "output_type": "display_data"
    }
   ],
   "source": [
    "x %*% b"
   ]
  },
  {
   "cell_type": "code",
   "execution_count": 12,
   "id": "552cb92a",
   "metadata": {},
   "outputs": [
    {
     "data": {
      "text/html": [
       "<style>\n",
       ".list-inline {list-style: none; margin:0; padding: 0}\n",
       ".list-inline>li {display: inline-block}\n",
       ".list-inline>li:not(:last-child)::after {content: \"\\00b7\"; padding: 0 .5ex}\n",
       "</style>\n",
       "<ol class=list-inline><li>100</li><li>99.901559375</li><li>99.6062375</li><li>99.114034375</li><li>98.42495</li><li>97.538984375</li><li>96.4561375</li><li>95.176409375</li><li>93.6998</li><li>92.026309375</li><li>90.1559375</li><li>88.088684375</li><li>85.82455</li><li>83.363534375</li><li>80.7056375</li><li>77.850859375</li><li>74.7992</li><li>71.550659375</li><li>68.1052375</li><li>64.462934375</li><li>60.62375</li><li>56.587684375</li><li>52.3547375</li><li>47.924909375</li><li>43.2982</li></ol>\n"
      ],
      "text/latex": [
       "\\begin{enumerate*}\n",
       "\\item 100\n",
       "\\item 99.901559375\n",
       "\\item 99.6062375\n",
       "\\item 99.114034375\n",
       "\\item 98.42495\n",
       "\\item 97.538984375\n",
       "\\item 96.4561375\n",
       "\\item 95.176409375\n",
       "\\item 93.6998\n",
       "\\item 92.026309375\n",
       "\\item 90.1559375\n",
       "\\item 88.088684375\n",
       "\\item 85.82455\n",
       "\\item 83.363534375\n",
       "\\item 80.7056375\n",
       "\\item 77.850859375\n",
       "\\item 74.7992\n",
       "\\item 71.550659375\n",
       "\\item 68.1052375\n",
       "\\item 64.462934375\n",
       "\\item 60.62375\n",
       "\\item 56.587684375\n",
       "\\item 52.3547375\n",
       "\\item 47.924909375\n",
       "\\item 43.2982\n",
       "\\end{enumerate*}\n"
      ],
      "text/markdown": [
       "1. 100\n",
       "2. 99.901559375\n",
       "3. 99.6062375\n",
       "4. 99.114034375\n",
       "5. 98.42495\n",
       "6. 97.538984375\n",
       "7. 96.4561375\n",
       "8. 95.176409375\n",
       "9. 93.6998\n",
       "10. 92.026309375\n",
       "11. 90.1559375\n",
       "12. 88.088684375\n",
       "13. 85.82455\n",
       "14. 83.363534375\n",
       "15. 80.7056375\n",
       "16. 77.850859375\n",
       "17. 74.7992\n",
       "18. 71.550659375\n",
       "19. 68.1052375\n",
       "20. 64.462934375\n",
       "21. 60.62375\n",
       "22. 56.587684375\n",
       "23. 52.3547375\n",
       "24. 47.924909375\n",
       "25. 43.2982\n",
       "\n",
       "\n"
      ],
      "text/plain": [
       " [1] 100.00000  99.90156  99.60624  99.11403  98.42495  97.53898  96.45614\n",
       " [8]  95.17641  93.69980  92.02631  90.15594  88.08868  85.82455  83.36353\n",
       "[15]  80.70564  77.85086  74.79920  71.55066  68.10524  64.46293  60.62375\n",
       "[22]  56.58768  52.35474  47.92491  43.29820"
      ]
     },
     "metadata": {},
     "output_type": "display_data"
    }
   ],
   "source": [
    "heights"
   ]
  },
  {
   "cell_type": "markdown",
   "id": "6a100357",
   "metadata": {},
   "source": [
    "# Homework:"
   ]
  },
  {
   "cell_type": "code",
   "execution_count": 13,
   "id": "a46ac402",
   "metadata": {},
   "outputs": [],
   "source": [
    "X <- matrix(c(1,1,1,1,0,0,1,1),nrow=4)\n",
    "rownames(X) <- c(\"a\",\"a\",\"b\",\"b\")"
   ]
  },
  {
   "cell_type": "code",
   "execution_count": 14,
   "id": "82cb0a95",
   "metadata": {},
   "outputs": [
    {
     "data": {
      "text/html": [
       "<table class=\"dataframe\">\n",
       "<caption>A matrix: 4 × 2 of type dbl</caption>\n",
       "<tbody>\n",
       "\t<tr><th scope=row>a</th><td>1</td><td>0</td></tr>\n",
       "\t<tr><th scope=row>a</th><td>1</td><td>0</td></tr>\n",
       "\t<tr><th scope=row>b</th><td>1</td><td>1</td></tr>\n",
       "\t<tr><th scope=row>b</th><td>1</td><td>1</td></tr>\n",
       "</tbody>\n",
       "</table>\n"
      ],
      "text/latex": [
       "A matrix: 4 × 2 of type dbl\n",
       "\\begin{tabular}{r|ll}\n",
       "\ta & 1 & 0\\\\\n",
       "\ta & 1 & 0\\\\\n",
       "\tb & 1 & 1\\\\\n",
       "\tb & 1 & 1\\\\\n",
       "\\end{tabular}\n"
      ],
      "text/markdown": [
       "\n",
       "A matrix: 4 × 2 of type dbl\n",
       "\n",
       "| a | 1 | 0 |\n",
       "| a | 1 | 0 |\n",
       "| b | 1 | 1 |\n",
       "| b | 1 | 1 |\n",
       "\n"
      ],
      "text/plain": [
       "  [,1] [,2]\n",
       "a 1    0   \n",
       "a 1    0   \n",
       "b 1    1   \n",
       "b 1    1   "
      ]
     },
     "metadata": {},
     "output_type": "display_data"
    }
   ],
   "source": [
    "X"
   ]
  },
  {
   "cell_type": "code",
   "execution_count": 15,
   "id": "ed6067e3",
   "metadata": {},
   "outputs": [],
   "source": [
    "beta <- rbind(5, 2)"
   ]
  },
  {
   "cell_type": "code",
   "execution_count": 16,
   "id": "6ec80a5b",
   "metadata": {},
   "outputs": [
    {
     "data": {
      "text/html": [
       "<table class=\"dataframe\">\n",
       "<caption>A matrix: 2 × 1 of type dbl</caption>\n",
       "<tbody>\n",
       "\t<tr><th scope=row>a</th><td>5</td></tr>\n",
       "\t<tr><th scope=row>a</th><td>5</td></tr>\n",
       "</tbody>\n",
       "</table>\n"
      ],
      "text/latex": [
       "A matrix: 2 × 1 of type dbl\n",
       "\\begin{tabular}{r|l}\n",
       "\ta & 5\\\\\n",
       "\ta & 5\\\\\n",
       "\\end{tabular}\n"
      ],
      "text/markdown": [
       "\n",
       "A matrix: 2 × 1 of type dbl\n",
       "\n",
       "| a | 5 |\n",
       "| a | 5 |\n",
       "\n"
      ],
      "text/plain": [
       "  [,1]\n",
       "a 5   \n",
       "a 5   "
      ]
     },
     "metadata": {},
     "output_type": "display_data"
    }
   ],
   "source": [
    "X[1:2,] %*% beta"
   ]
  },
  {
   "cell_type": "code",
   "execution_count": 20,
   "id": "6d764aa7",
   "metadata": {},
   "outputs": [
    {
     "data": {
      "text/html": [
       "<table class=\"dataframe\">\n",
       "<caption>A matrix: 1 × 1 of type dbl</caption>\n",
       "<tbody>\n",
       "\t<tr><td>7</td></tr>\n",
       "</tbody>\n",
       "</table>\n"
      ],
      "text/latex": [
       "A matrix: 1 × 1 of type dbl\n",
       "\\begin{tabular}{l}\n",
       "\t 7\\\\\n",
       "\\end{tabular}\n"
      ],
      "text/markdown": [
       "\n",
       "A matrix: 1 × 1 of type dbl\n",
       "\n",
       "| 7 |\n",
       "\n"
      ],
      "text/plain": [
       "     [,1]\n",
       "[1,] 7   "
      ]
     },
     "metadata": {},
     "output_type": "display_data"
    }
   ],
   "source": [
    "X[3:4] %*% beta"
   ]
  },
  {
   "cell_type": "code",
   "execution_count": 18,
   "id": "2cf8abf3",
   "metadata": {},
   "outputs": [
    {
     "data": {
      "text/html": [
       "<table class=\"dataframe\">\n",
       "<caption>A matrix: 2 × 1 of type dbl</caption>\n",
       "<tbody>\n",
       "\t<tr><td>5</td></tr>\n",
       "\t<tr><td>2</td></tr>\n",
       "</tbody>\n",
       "</table>\n"
      ],
      "text/latex": [
       "A matrix: 2 × 1 of type dbl\n",
       "\\begin{tabular}{l}\n",
       "\t 5\\\\\n",
       "\t 2\\\\\n",
       "\\end{tabular}\n"
      ],
      "text/markdown": [
       "\n",
       "A matrix: 2 × 1 of type dbl\n",
       "\n",
       "| 5 |\n",
       "| 2 |\n",
       "\n"
      ],
      "text/plain": [
       "     [,1]\n",
       "[1,] 5   \n",
       "[2,] 2   "
      ]
     },
     "metadata": {},
     "output_type": "display_data"
    }
   ],
   "source": [
    "beta"
   ]
  },
  {
   "cell_type": "code",
   "execution_count": null,
   "id": "45fe1dfb",
   "metadata": {},
   "outputs": [],
   "source": []
  }
 ],
 "metadata": {
  "kernelspec": {
   "display_name": "R",
   "language": "R",
   "name": "ir"
  },
  "language_info": {
   "codemirror_mode": "r",
   "file_extension": ".r",
   "mimetype": "text/x-r-source",
   "name": "R",
   "pygments_lexer": "r",
   "version": "4.1.3"
  }
 },
 "nbformat": 4,
 "nbformat_minor": 5
}
